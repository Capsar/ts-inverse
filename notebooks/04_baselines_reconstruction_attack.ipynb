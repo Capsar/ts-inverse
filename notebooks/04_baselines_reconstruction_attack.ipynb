{
 "cells": [
  {
   "cell_type": "code",
   "execution_count": 1,
   "metadata": {
    "metadata": {}
   },
   "outputs": [
    {
     "data": {
      "text/plain": [
       "True"
      ]
     },
     "execution_count": 1,
     "metadata": {},
     "output_type": "execute_result"
    }
   ],
   "source": [
    "import pandas as pd\n",
    "import dotenv\n",
    "dotenv.load_dotenv()"
   ]
  },
  {
   "cell_type": "code",
   "execution_count": 2,
   "metadata": {
    "metadata": {}
   },
   "outputs": [],
   "source": [
    "df_london_smartmeter = pd.read_csv(\"../data/LondonSmartMeter/london_smart_meters_dataset_without_missing_values_first_30_consumers.csv\", index_col='Time', parse_dates=['Time'])\n",
    "df_kddcup = pd.read_csv(\"../data/KDDCup_2018/kdd_cup_2018_dataset_without_missing_values.csv\", index_col='Time', parse_dates=['Time'])\n",
    "df_electricity_321_hourly = pd.read_csv(\"../data/Electricity321Hourly/electricity_hourly_dataset.csv\", index_col='Time', parse_dates=['Time'])\n",
    "df_electricity_370 = pd.read_csv(\"../data/Electricity370/LD2011_2014_first_40_consumers.csv\", index_col='Time', parse_dates=['Time'])\n",
    "# tno_df.head()\n",
    "# print(df.columns.tolist()[:1])"
   ]
  },
  {
   "cell_type": "code",
   "execution_count": null,
   "metadata": {
    "metadata": {}
   },
   "outputs": [
    {
     "name": "stdout",
     "output_type": "stream",
     "text": [
      "Using CUDA device: NVIDIA L40S\n",
      "Physical cores: 64\n",
      "Total cores: 128\n",
      "Current Frequency: 3664.77Mhz\n",
      "Total: 1007.57 GB\n",
      "Available: 442.38 GB\n",
      "Used: 556.65 GB\n",
      "Percentage: 56.1%\n",
      "Distributed PyTorch available: True\n"
     ]
    }
   ],
   "source": [
    "import torch\n",
    "import psutil\n",
    "\n",
    "# Check if CUDA is available\n",
    "if torch.cuda.is_available():\n",
    "    # Get the current device\n",
    "    torch.set_float32_matmul_precision(\"high\")\n",
    "    device = torch.cuda.current_device()\n",
    "    print(f\"Using CUDA device: {torch.cuda.get_device_name(device)}\")\n",
    "else:\n",
    "    device = \"cpu\"\n",
    "    print(\"CUDA is not available\")\n",
    "\n",
    "print(\"Physical cores:\", psutil.cpu_count(logical=False))\n",
    "print(\"Total cores:\", psutil.cpu_count(logical=True))\n",
    "cpu_freq = psutil.cpu_freq()\n",
    "print(f\"Current Frequency: {cpu_freq.current:.2f}Mhz\")\n",
    "\n",
    "# RAM Information\n",
    "svmem = psutil.virtual_memory()\n",
    "print(f\"Total: {svmem.total / (1024**3):.2f} GB\")\n",
    "print(f\"Available: {svmem.available / (1024**3):.2f} GB\")\n",
    "print(f\"Used: {svmem.used / (1024**3):.2f} GB\")\n",
    "print(f\"Percentage: {svmem.percent}%\")\n",
    "\n",
    "print(\"Distributed PyTorch available:\", torch.distributed.is_available())"
   ]
  },
  {
   "cell_type": "code",
   "execution_count": 4,
   "metadata": {
    "metadata": {}
   },
   "outputs": [
    {
     "name": "stdout",
     "output_type": "stream",
     "text": [
      "Starting 48 processes\n",
      "def_c {'sign': True, 'defense_name': 'sign'}\n",
      "Starting attack 0 with config: {'logger_service': 'wandb', 'experiment_name': 'baseline_with_defenses_5-3-2025a', 'seed': 10, 'number_of_batches': 5000, 'warmup_number_of_batches': 0, 'attack_number_of_batches': 1, 'batch_size': 1, 'device': 0, 'verbose': False, 'pool_size': 1, 'run_number': 0, 'gradient_loss': 'euclidean', 'dummy_optimizer': 'lbfgs', 'total_variation_alpha_inputs': 0, 'total_variation_beta_targets': 0, 'lr_decay': 'none', 'after_effect': 'none', 'update_model': True, 'model_evaluation_during_attack': False, 'dropout': 0, 'optimize_dropout': False, 'dropout_probability_regularizer': 0, 'use_grad_signs': False, 'dummy_init_method': 'rand', 'evaluate_trained_model': True, 'attack_method': 'DLG-LBFGS', 'base_num_attack_steps': 500, 'learning_rate': 0.005, 'dataset': 'electricity_370', 'columns': ['MT_005'], 'train_stride': 24, 'validation_stride': 1, 'observation_days': 1, 'future_days': 1, 'normalize': 'minmax', 'hidden_size': 64, '_attack_step_multiplier': 1, 'features': [0], 'input_size': 96, 'output_size': 96, 'sign': True, 'defense_name': 'sign', 'model': 'FCN_Predictor', 'num_attack_steps': 500, 'train_dataset_size': 699}\n",
      "finished attack\n"
     ]
    },
    {
     "data": {
      "text/html": [],
      "text/plain": [
       "<IPython.core.display.HTML object>"
      ]
     },
     "metadata": {},
     "output_type": "display_data"
    },
    {
     "name": "stdout",
     "output_type": "stream",
     "text": [
      "def_c {'sign': True, 'defense_name': 'sign'}\n",
      "Starting attack 1 with config: {'logger_service': 'wandb', 'experiment_name': 'baseline_with_defenses_5-3-2025a', 'seed': 10, 'number_of_batches': 5000, 'warmup_number_of_batches': 0, 'attack_number_of_batches': 1, 'batch_size': 1, 'device': 0, 'verbose': False, 'pool_size': 1, 'run_number': 1, 'gradient_loss': 'euclidean', 'dummy_optimizer': 'adam', 'total_variation_alpha_inputs': 0, 'total_variation_beta_targets': 0, 'lr_decay': 'none', 'after_effect': 'none', 'update_model': True, 'model_evaluation_during_attack': False, 'dropout': 0, 'optimize_dropout': False, 'dropout_probability_regularizer': 0, 'use_grad_signs': False, 'dummy_init_method': 'rand', 'evaluate_trained_model': True, 'attack_method': 'DLG-Adam', 'base_num_attack_steps': 5000, 'learning_rate': 0.005, 'dataset': 'electricity_370', 'columns': ['MT_005'], 'train_stride': 24, 'validation_stride': 1, 'observation_days': 1, 'future_days': 1, 'normalize': 'minmax', 'hidden_size': 64, '_attack_step_multiplier': 1, 'features': [0], 'input_size': 96, 'output_size': 96, 'sign': True, 'defense_name': 'sign', 'model': 'FCN_Predictor', 'num_attack_steps': 5000, 'train_dataset_size': 699}\n",
      "finished attack\n"
     ]
    },
    {
     "data": {
      "text/html": [],
      "text/plain": [
       "<IPython.core.display.HTML object>"
      ]
     },
     "metadata": {},
     "output_type": "display_data"
    },
    {
     "name": "stdout",
     "output_type": "stream",
     "text": [
      "def_c {'sign': True, 'defense_name': 'sign'}\n",
      "Starting attack 2 with config: {'logger_service': 'wandb', 'experiment_name': 'baseline_with_defenses_5-3-2025a', 'seed': 10, 'number_of_batches': 5000, 'warmup_number_of_batches': 0, 'attack_number_of_batches': 1, 'batch_size': 1, 'device': 0, 'verbose': False, 'pool_size': 1, 'run_number': 2, 'gradient_loss': 'cosine_invg', 'dummy_optimizer': 'adam', 'total_variation_alpha_inputs': 0, 'total_variation_beta_targets': 0, 'lr_decay': 'multi_step', 'after_effect': 'boxed', 'update_model': True, 'model_evaluation_during_attack': False, 'dropout': 0, 'optimize_dropout': False, 'dropout_probability_regularizer': 0, 'use_grad_signs': True, 'dummy_init_method': 'rand', 'evaluate_trained_model': True, 'attack_method': 'InvG', 'base_num_attack_steps': 5000, 'learning_rate': 0.005, 'dataset': 'electricity_370', 'columns': ['MT_005'], 'train_stride': 24, 'validation_stride': 1, 'observation_days': 1, 'future_days': 1, 'normalize': 'minmax', 'hidden_size': 64, '_attack_step_multiplier': 1, 'features': [0], 'input_size': 96, 'output_size': 96, 'sign': True, 'defense_name': 'sign', 'model': 'FCN_Predictor', 'num_attack_steps': 5000, 'train_dataset_size': 699}\n",
      "finished attack\n"
     ]
    },
    {
     "data": {
      "text/html": [],
      "text/plain": [
       "<IPython.core.display.HTML object>"
      ]
     },
     "metadata": {},
     "output_type": "display_data"
    },
    {
     "name": "stdout",
     "output_type": "stream",
     "text": [
      "def_c {'sign': True, 'defense_name': 'sign'}\n",
      "Starting attack 3 with config: {'logger_service': 'wandb', 'experiment_name': 'baseline_with_defenses_5-3-2025a', 'seed': 10, 'number_of_batches': 5000, 'warmup_number_of_batches': 0, 'attack_number_of_batches': 1, 'batch_size': 1, 'device': 0, 'verbose': False, 'pool_size': 1, 'run_number': 3, 'gradient_loss': 'cosine_dia', 'dummy_optimizer': 'adam', 'total_variation_alpha_inputs': 0, 'total_variation_beta_targets': 0, 'lr_decay': 'on_plateau_10', 'after_effect': 'boxed', 'update_model': True, 'model_evaluation_during_attack': False, 'dropout': 0, 'optimize_dropout': True, 'dropout_probability_regularizer': 1e-06, 'use_grad_signs': True, 'dummy_init_method': 'rand', 'evaluate_trained_model': True, 'attack_method': 'DIA', 'base_num_attack_steps': 500, 'learning_rate': 0.1, 'clamp_dropout': 1, 'clamp_dropout_min_max': [0, 1], 'dropout_mask_init_type': 'bernoulli', 'dataset': 'electricity_370', 'columns': ['MT_005'], 'train_stride': 24, 'validation_stride': 1, 'observation_days': 1, 'future_days': 1, 'normalize': 'minmax', 'hidden_size': 64, '_attack_step_multiplier': 1, 'features': [0], 'input_size': 96, 'output_size': 96, 'sign': True, 'defense_name': 'sign', 'model': 'FCN_Predictor', 'num_attack_steps': 500, 'train_dataset_size': 699}\n",
      "finished attack\n"
     ]
    },
    {
     "data": {
      "text/html": [],
      "text/plain": [
       "<IPython.core.display.HTML object>"
      ]
     },
     "metadata": {},
     "output_type": "display_data"
    },
    {
     "name": "stdout",
     "output_type": "stream",
     "text": [
      "def_c {'sign': True, 'defense_name': 'sign'}\n",
      "Starting attack 4 with config: {'logger_service': 'wandb', 'experiment_name': 'baseline_with_defenses_5-3-2025a', 'seed': 43, 'number_of_batches': 5000, 'warmup_number_of_batches': 0, 'attack_number_of_batches': 1, 'batch_size': 1, 'device': 0, 'verbose': False, 'pool_size': 1, 'run_number': 4, 'gradient_loss': 'euclidean', 'dummy_optimizer': 'lbfgs', 'total_variation_alpha_inputs': 0, 'total_variation_beta_targets': 0, 'lr_decay': 'none', 'after_effect': 'none', 'update_model': True, 'model_evaluation_during_attack': False, 'dropout': 0, 'optimize_dropout': False, 'dropout_probability_regularizer': 0, 'use_grad_signs': False, 'dummy_init_method': 'rand', 'evaluate_trained_model': True, 'attack_method': 'DLG-LBFGS', 'base_num_attack_steps': 500, 'learning_rate': 0.005, 'dataset': 'electricity_370', 'columns': ['MT_005'], 'train_stride': 24, 'validation_stride': 1, 'observation_days': 1, 'future_days': 1, 'normalize': 'minmax', 'hidden_size': 64, '_attack_step_multiplier': 1, 'features': [0], 'input_size': 96, 'output_size': 96, 'sign': True, 'defense_name': 'sign', 'model': 'FCN_Predictor', 'num_attack_steps': 500, 'train_dataset_size': 699}\n",
      "finished attack\n"
     ]
    },
    {
     "data": {
      "text/html": [],
      "text/plain": [
       "<IPython.core.display.HTML object>"
      ]
     },
     "metadata": {},
     "output_type": "display_data"
    },
    {
     "name": "stdout",
     "output_type": "stream",
     "text": [
      "def_c {'sign': True, 'defense_name': 'sign'}\n",
      "Starting attack 5 with config: {'logger_service': 'wandb', 'experiment_name': 'baseline_with_defenses_5-3-2025a', 'seed': 43, 'number_of_batches': 5000, 'warmup_number_of_batches': 0, 'attack_number_of_batches': 1, 'batch_size': 1, 'device': 0, 'verbose': False, 'pool_size': 1, 'run_number': 5, 'gradient_loss': 'euclidean', 'dummy_optimizer': 'adam', 'total_variation_alpha_inputs': 0, 'total_variation_beta_targets': 0, 'lr_decay': 'none', 'after_effect': 'none', 'update_model': True, 'model_evaluation_during_attack': False, 'dropout': 0, 'optimize_dropout': False, 'dropout_probability_regularizer': 0, 'use_grad_signs': False, 'dummy_init_method': 'rand', 'evaluate_trained_model': True, 'attack_method': 'DLG-Adam', 'base_num_attack_steps': 5000, 'learning_rate': 0.005, 'dataset': 'electricity_370', 'columns': ['MT_005'], 'train_stride': 24, 'validation_stride': 1, 'observation_days': 1, 'future_days': 1, 'normalize': 'minmax', 'hidden_size': 64, '_attack_step_multiplier': 1, 'features': [0], 'input_size': 96, 'output_size': 96, 'sign': True, 'defense_name': 'sign', 'model': 'FCN_Predictor', 'num_attack_steps': 5000, 'train_dataset_size': 699}\n",
      "finished attack\n"
     ]
    },
    {
     "data": {
      "text/html": [],
      "text/plain": [
       "<IPython.core.display.HTML object>"
      ]
     },
     "metadata": {},
     "output_type": "display_data"
    },
    {
     "name": "stdout",
     "output_type": "stream",
     "text": [
      "def_c {'sign': True, 'defense_name': 'sign'}\n",
      "Starting attack 6 with config: {'logger_service': 'wandb', 'experiment_name': 'baseline_with_defenses_5-3-2025a', 'seed': 43, 'number_of_batches': 5000, 'warmup_number_of_batches': 0, 'attack_number_of_batches': 1, 'batch_size': 1, 'device': 0, 'verbose': False, 'pool_size': 1, 'run_number': 6, 'gradient_loss': 'cosine_invg', 'dummy_optimizer': 'adam', 'total_variation_alpha_inputs': 0, 'total_variation_beta_targets': 0, 'lr_decay': 'multi_step', 'after_effect': 'boxed', 'update_model': True, 'model_evaluation_during_attack': False, 'dropout': 0, 'optimize_dropout': False, 'dropout_probability_regularizer': 0, 'use_grad_signs': True, 'dummy_init_method': 'rand', 'evaluate_trained_model': True, 'attack_method': 'InvG', 'base_num_attack_steps': 5000, 'learning_rate': 0.005, 'dataset': 'electricity_370', 'columns': ['MT_005'], 'train_stride': 24, 'validation_stride': 1, 'observation_days': 1, 'future_days': 1, 'normalize': 'minmax', 'hidden_size': 64, '_attack_step_multiplier': 1, 'features': [0], 'input_size': 96, 'output_size': 96, 'sign': True, 'defense_name': 'sign', 'model': 'FCN_Predictor', 'num_attack_steps': 5000, 'train_dataset_size': 699}\n",
      "finished attack\n"
     ]
    },
    {
     "data": {
      "text/html": [],
      "text/plain": [
       "<IPython.core.display.HTML object>"
      ]
     },
     "metadata": {},
     "output_type": "display_data"
    },
    {
     "name": "stdout",
     "output_type": "stream",
     "text": [
      "def_c {'sign': True, 'defense_name': 'sign'}\n",
      "Starting attack 7 with config: {'logger_service': 'wandb', 'experiment_name': 'baseline_with_defenses_5-3-2025a', 'seed': 43, 'number_of_batches': 5000, 'warmup_number_of_batches': 0, 'attack_number_of_batches': 1, 'batch_size': 1, 'device': 0, 'verbose': False, 'pool_size': 1, 'run_number': 7, 'gradient_loss': 'cosine_dia', 'dummy_optimizer': 'adam', 'total_variation_alpha_inputs': 0, 'total_variation_beta_targets': 0, 'lr_decay': 'on_plateau_10', 'after_effect': 'boxed', 'update_model': True, 'model_evaluation_during_attack': False, 'dropout': 0, 'optimize_dropout': True, 'dropout_probability_regularizer': 1e-06, 'use_grad_signs': True, 'dummy_init_method': 'rand', 'evaluate_trained_model': True, 'attack_method': 'DIA', 'base_num_attack_steps': 500, 'learning_rate': 0.1, 'clamp_dropout': 1, 'clamp_dropout_min_max': [0, 1], 'dropout_mask_init_type': 'bernoulli', 'dataset': 'electricity_370', 'columns': ['MT_005'], 'train_stride': 24, 'validation_stride': 1, 'observation_days': 1, 'future_days': 1, 'normalize': 'minmax', 'hidden_size': 64, '_attack_step_multiplier': 1, 'features': [0], 'input_size': 96, 'output_size': 96, 'sign': True, 'defense_name': 'sign', 'model': 'FCN_Predictor', 'num_attack_steps': 500, 'train_dataset_size': 699}\n",
      "finished attack\n"
     ]
    },
    {
     "data": {
      "text/html": [],
      "text/plain": [
       "<IPython.core.display.HTML object>"
      ]
     },
     "metadata": {},
     "output_type": "display_data"
    },
    {
     "name": "stdout",
     "output_type": "stream",
     "text": [
      "def_c {'sign': True, 'defense_name': 'sign'}\n",
      "Starting attack 8 with config: {'logger_service': 'wandb', 'experiment_name': 'baseline_with_defenses_5-3-2025a', 'seed': 28, 'number_of_batches': 5000, 'warmup_number_of_batches': 0, 'attack_number_of_batches': 1, 'batch_size': 1, 'device': 0, 'verbose': False, 'pool_size': 1, 'run_number': 8, 'gradient_loss': 'euclidean', 'dummy_optimizer': 'lbfgs', 'total_variation_alpha_inputs': 0, 'total_variation_beta_targets': 0, 'lr_decay': 'none', 'after_effect': 'none', 'update_model': True, 'model_evaluation_during_attack': False, 'dropout': 0, 'optimize_dropout': False, 'dropout_probability_regularizer': 0, 'use_grad_signs': False, 'dummy_init_method': 'rand', 'evaluate_trained_model': True, 'attack_method': 'DLG-LBFGS', 'base_num_attack_steps': 500, 'learning_rate': 0.005, 'dataset': 'electricity_370', 'columns': ['MT_005'], 'train_stride': 24, 'validation_stride': 1, 'observation_days': 1, 'future_days': 1, 'normalize': 'minmax', 'hidden_size': 64, '_attack_step_multiplier': 1, 'features': [0], 'input_size': 96, 'output_size': 96, 'sign': True, 'defense_name': 'sign', 'model': 'FCN_Predictor', 'num_attack_steps': 500, 'train_dataset_size': 699}\n",
      "finished attack\n"
     ]
    },
    {
     "data": {
      "text/html": [],
      "text/plain": [
       "<IPython.core.display.HTML object>"
      ]
     },
     "metadata": {},
     "output_type": "display_data"
    },
    {
     "name": "stdout",
     "output_type": "stream",
     "text": [
      "def_c {'sign': True, 'defense_name': 'sign'}\n",
      "Starting attack 9 with config: {'logger_service': 'wandb', 'experiment_name': 'baseline_with_defenses_5-3-2025a', 'seed': 28, 'number_of_batches': 5000, 'warmup_number_of_batches': 0, 'attack_number_of_batches': 1, 'batch_size': 1, 'device': 0, 'verbose': False, 'pool_size': 1, 'run_number': 9, 'gradient_loss': 'euclidean', 'dummy_optimizer': 'adam', 'total_variation_alpha_inputs': 0, 'total_variation_beta_targets': 0, 'lr_decay': 'none', 'after_effect': 'none', 'update_model': True, 'model_evaluation_during_attack': False, 'dropout': 0, 'optimize_dropout': False, 'dropout_probability_regularizer': 0, 'use_grad_signs': False, 'dummy_init_method': 'rand', 'evaluate_trained_model': True, 'attack_method': 'DLG-Adam', 'base_num_attack_steps': 5000, 'learning_rate': 0.005, 'dataset': 'electricity_370', 'columns': ['MT_005'], 'train_stride': 24, 'validation_stride': 1, 'observation_days': 1, 'future_days': 1, 'normalize': 'minmax', 'hidden_size': 64, '_attack_step_multiplier': 1, 'features': [0], 'input_size': 96, 'output_size': 96, 'sign': True, 'defense_name': 'sign', 'model': 'FCN_Predictor', 'num_attack_steps': 5000, 'train_dataset_size': 699}\n",
      "finished attack\n"
     ]
    },
    {
     "data": {
      "text/html": [],
      "text/plain": [
       "<IPython.core.display.HTML object>"
      ]
     },
     "metadata": {},
     "output_type": "display_data"
    },
    {
     "name": "stdout",
     "output_type": "stream",
     "text": [
      "def_c {'sign': True, 'defense_name': 'sign'}\n",
      "Starting attack 10 with config: {'logger_service': 'wandb', 'experiment_name': 'baseline_with_defenses_5-3-2025a', 'seed': 28, 'number_of_batches': 5000, 'warmup_number_of_batches': 0, 'attack_number_of_batches': 1, 'batch_size': 1, 'device': 0, 'verbose': False, 'pool_size': 1, 'run_number': 10, 'gradient_loss': 'cosine_invg', 'dummy_optimizer': 'adam', 'total_variation_alpha_inputs': 0, 'total_variation_beta_targets': 0, 'lr_decay': 'multi_step', 'after_effect': 'boxed', 'update_model': True, 'model_evaluation_during_attack': False, 'dropout': 0, 'optimize_dropout': False, 'dropout_probability_regularizer': 0, 'use_grad_signs': True, 'dummy_init_method': 'rand', 'evaluate_trained_model': True, 'attack_method': 'InvG', 'base_num_attack_steps': 5000, 'learning_rate': 0.005, 'dataset': 'electricity_370', 'columns': ['MT_005'], 'train_stride': 24, 'validation_stride': 1, 'observation_days': 1, 'future_days': 1, 'normalize': 'minmax', 'hidden_size': 64, '_attack_step_multiplier': 1, 'features': [0], 'input_size': 96, 'output_size': 96, 'sign': True, 'defense_name': 'sign', 'model': 'FCN_Predictor', 'num_attack_steps': 5000, 'train_dataset_size': 699}\n",
      "finished attack\n"
     ]
    },
    {
     "data": {
      "text/html": [],
      "text/plain": [
       "<IPython.core.display.HTML object>"
      ]
     },
     "metadata": {},
     "output_type": "display_data"
    },
    {
     "name": "stdout",
     "output_type": "stream",
     "text": [
      "def_c {'sign': True, 'defense_name': 'sign'}\n",
      "Starting attack 11 with config: {'logger_service': 'wandb', 'experiment_name': 'baseline_with_defenses_5-3-2025a', 'seed': 28, 'number_of_batches': 5000, 'warmup_number_of_batches': 0, 'attack_number_of_batches': 1, 'batch_size': 1, 'device': 0, 'verbose': False, 'pool_size': 1, 'run_number': 11, 'gradient_loss': 'cosine_dia', 'dummy_optimizer': 'adam', 'total_variation_alpha_inputs': 0, 'total_variation_beta_targets': 0, 'lr_decay': 'on_plateau_10', 'after_effect': 'boxed', 'update_model': True, 'model_evaluation_during_attack': False, 'dropout': 0, 'optimize_dropout': True, 'dropout_probability_regularizer': 1e-06, 'use_grad_signs': True, 'dummy_init_method': 'rand', 'evaluate_trained_model': True, 'attack_method': 'DIA', 'base_num_attack_steps': 500, 'learning_rate': 0.1, 'clamp_dropout': 1, 'clamp_dropout_min_max': [0, 1], 'dropout_mask_init_type': 'bernoulli', 'dataset': 'electricity_370', 'columns': ['MT_005'], 'train_stride': 24, 'validation_stride': 1, 'observation_days': 1, 'future_days': 1, 'normalize': 'minmax', 'hidden_size': 64, '_attack_step_multiplier': 1, 'features': [0], 'input_size': 96, 'output_size': 96, 'sign': True, 'defense_name': 'sign', 'model': 'FCN_Predictor', 'num_attack_steps': 500, 'train_dataset_size': 699}\n",
      "finished attack\n"
     ]
    },
    {
     "data": {
      "text/html": [],
      "text/plain": [
       "<IPython.core.display.HTML object>"
      ]
     },
     "metadata": {},
     "output_type": "display_data"
    },
    {
     "name": "stdout",
     "output_type": "stream",
     "text": [
      "def_c {'prune_rate': 0.1, 'defense_name': 'prune'}\n",
      "Starting attack 12 with config: {'logger_service': 'wandb', 'experiment_name': 'baseline_with_defenses_5-3-2025a', 'seed': 10, 'number_of_batches': 5000, 'warmup_number_of_batches': 0, 'attack_number_of_batches': 1, 'batch_size': 1, 'device': 0, 'verbose': False, 'pool_size': 1, 'run_number': 12, 'gradient_loss': 'euclidean', 'dummy_optimizer': 'lbfgs', 'total_variation_alpha_inputs': 0, 'total_variation_beta_targets': 0, 'lr_decay': 'none', 'after_effect': 'none', 'update_model': True, 'model_evaluation_during_attack': False, 'dropout': 0, 'optimize_dropout': False, 'dropout_probability_regularizer': 0, 'use_grad_signs': False, 'dummy_init_method': 'rand', 'evaluate_trained_model': True, 'attack_method': 'DLG-LBFGS', 'base_num_attack_steps': 500, 'learning_rate': 0.005, 'dataset': 'electricity_370', 'columns': ['MT_005'], 'train_stride': 24, 'validation_stride': 1, 'observation_days': 1, 'future_days': 1, 'normalize': 'minmax', 'hidden_size': 64, '_attack_step_multiplier': 1, 'features': [0], 'input_size': 96, 'output_size': 96, 'prune_rate': 0.1, 'defense_name': 'prune', 'model': 'FCN_Predictor', 'num_attack_steps': 500, 'train_dataset_size': 699}\n",
      "finished attack\n"
     ]
    },
    {
     "data": {
      "text/html": [],
      "text/plain": [
       "<IPython.core.display.HTML object>"
      ]
     },
     "metadata": {},
     "output_type": "display_data"
    },
    {
     "name": "stdout",
     "output_type": "stream",
     "text": [
      "def_c {'prune_rate': 0.1, 'defense_name': 'prune'}\n",
      "Starting attack 13 with config: {'logger_service': 'wandb', 'experiment_name': 'baseline_with_defenses_5-3-2025a', 'seed': 10, 'number_of_batches': 5000, 'warmup_number_of_batches': 0, 'attack_number_of_batches': 1, 'batch_size': 1, 'device': 0, 'verbose': False, 'pool_size': 1, 'run_number': 13, 'gradient_loss': 'euclidean', 'dummy_optimizer': 'adam', 'total_variation_alpha_inputs': 0, 'total_variation_beta_targets': 0, 'lr_decay': 'none', 'after_effect': 'none', 'update_model': True, 'model_evaluation_during_attack': False, 'dropout': 0, 'optimize_dropout': False, 'dropout_probability_regularizer': 0, 'use_grad_signs': False, 'dummy_init_method': 'rand', 'evaluate_trained_model': True, 'attack_method': 'DLG-Adam', 'base_num_attack_steps': 5000, 'learning_rate': 0.005, 'dataset': 'electricity_370', 'columns': ['MT_005'], 'train_stride': 24, 'validation_stride': 1, 'observation_days': 1, 'future_days': 1, 'normalize': 'minmax', 'hidden_size': 64, '_attack_step_multiplier': 1, 'features': [0], 'input_size': 96, 'output_size': 96, 'prune_rate': 0.1, 'defense_name': 'prune', 'model': 'FCN_Predictor', 'num_attack_steps': 5000, 'train_dataset_size': 699}\n",
      "finished attack\n"
     ]
    },
    {
     "data": {
      "text/html": [],
      "text/plain": [
       "<IPython.core.display.HTML object>"
      ]
     },
     "metadata": {},
     "output_type": "display_data"
    },
    {
     "name": "stdout",
     "output_type": "stream",
     "text": [
      "def_c {'prune_rate': 0.1, 'defense_name': 'prune'}\n",
      "Starting attack 14 with config: {'logger_service': 'wandb', 'experiment_name': 'baseline_with_defenses_5-3-2025a', 'seed': 10, 'number_of_batches': 5000, 'warmup_number_of_batches': 0, 'attack_number_of_batches': 1, 'batch_size': 1, 'device': 0, 'verbose': False, 'pool_size': 1, 'run_number': 14, 'gradient_loss': 'cosine_invg', 'dummy_optimizer': 'adam', 'total_variation_alpha_inputs': 0, 'total_variation_beta_targets': 0, 'lr_decay': 'multi_step', 'after_effect': 'boxed', 'update_model': True, 'model_evaluation_during_attack': False, 'dropout': 0, 'optimize_dropout': False, 'dropout_probability_regularizer': 0, 'use_grad_signs': True, 'dummy_init_method': 'rand', 'evaluate_trained_model': True, 'attack_method': 'InvG', 'base_num_attack_steps': 5000, 'learning_rate': 0.005, 'dataset': 'electricity_370', 'columns': ['MT_005'], 'train_stride': 24, 'validation_stride': 1, 'observation_days': 1, 'future_days': 1, 'normalize': 'minmax', 'hidden_size': 64, '_attack_step_multiplier': 1, 'features': [0], 'input_size': 96, 'output_size': 96, 'prune_rate': 0.1, 'defense_name': 'prune', 'model': 'FCN_Predictor', 'num_attack_steps': 5000, 'train_dataset_size': 699}\n",
      "finished attack\n"
     ]
    },
    {
     "data": {
      "text/html": [],
      "text/plain": [
       "<IPython.core.display.HTML object>"
      ]
     },
     "metadata": {},
     "output_type": "display_data"
    },
    {
     "name": "stdout",
     "output_type": "stream",
     "text": [
      "def_c {'prune_rate': 0.1, 'defense_name': 'prune'}\n",
      "Starting attack 15 with config: {'logger_service': 'wandb', 'experiment_name': 'baseline_with_defenses_5-3-2025a', 'seed': 10, 'number_of_batches': 5000, 'warmup_number_of_batches': 0, 'attack_number_of_batches': 1, 'batch_size': 1, 'device': 0, 'verbose': False, 'pool_size': 1, 'run_number': 15, 'gradient_loss': 'cosine_dia', 'dummy_optimizer': 'adam', 'total_variation_alpha_inputs': 0, 'total_variation_beta_targets': 0, 'lr_decay': 'on_plateau_10', 'after_effect': 'boxed', 'update_model': True, 'model_evaluation_during_attack': False, 'dropout': 0, 'optimize_dropout': True, 'dropout_probability_regularizer': 1e-06, 'use_grad_signs': True, 'dummy_init_method': 'rand', 'evaluate_trained_model': True, 'attack_method': 'DIA', 'base_num_attack_steps': 500, 'learning_rate': 0.1, 'clamp_dropout': 1, 'clamp_dropout_min_max': [0, 1], 'dropout_mask_init_type': 'bernoulli', 'dataset': 'electricity_370', 'columns': ['MT_005'], 'train_stride': 24, 'validation_stride': 1, 'observation_days': 1, 'future_days': 1, 'normalize': 'minmax', 'hidden_size': 64, '_attack_step_multiplier': 1, 'features': [0], 'input_size': 96, 'output_size': 96, 'prune_rate': 0.1, 'defense_name': 'prune', 'model': 'FCN_Predictor', 'num_attack_steps': 500, 'train_dataset_size': 699}\n",
      "finished attack\n"
     ]
    },
    {
     "data": {
      "text/html": [],
      "text/plain": [
       "<IPython.core.display.HTML object>"
      ]
     },
     "metadata": {},
     "output_type": "display_data"
    },
    {
     "name": "stdout",
     "output_type": "stream",
     "text": [
      "def_c {'prune_rate': 0.1, 'defense_name': 'prune'}\n",
      "Starting attack 16 with config: {'logger_service': 'wandb', 'experiment_name': 'baseline_with_defenses_5-3-2025a', 'seed': 43, 'number_of_batches': 5000, 'warmup_number_of_batches': 0, 'attack_number_of_batches': 1, 'batch_size': 1, 'device': 0, 'verbose': False, 'pool_size': 1, 'run_number': 16, 'gradient_loss': 'euclidean', 'dummy_optimizer': 'lbfgs', 'total_variation_alpha_inputs': 0, 'total_variation_beta_targets': 0, 'lr_decay': 'none', 'after_effect': 'none', 'update_model': True, 'model_evaluation_during_attack': False, 'dropout': 0, 'optimize_dropout': False, 'dropout_probability_regularizer': 0, 'use_grad_signs': False, 'dummy_init_method': 'rand', 'evaluate_trained_model': True, 'attack_method': 'DLG-LBFGS', 'base_num_attack_steps': 500, 'learning_rate': 0.005, 'dataset': 'electricity_370', 'columns': ['MT_005'], 'train_stride': 24, 'validation_stride': 1, 'observation_days': 1, 'future_days': 1, 'normalize': 'minmax', 'hidden_size': 64, '_attack_step_multiplier': 1, 'features': [0], 'input_size': 96, 'output_size': 96, 'prune_rate': 0.1, 'defense_name': 'prune', 'model': 'FCN_Predictor', 'num_attack_steps': 500, 'train_dataset_size': 699}\n",
      "finished attack\n"
     ]
    },
    {
     "data": {
      "text/html": [],
      "text/plain": [
       "<IPython.core.display.HTML object>"
      ]
     },
     "metadata": {},
     "output_type": "display_data"
    },
    {
     "name": "stdout",
     "output_type": "stream",
     "text": [
      "def_c {'prune_rate': 0.1, 'defense_name': 'prune'}\n",
      "Starting attack 17 with config: {'logger_service': 'wandb', 'experiment_name': 'baseline_with_defenses_5-3-2025a', 'seed': 43, 'number_of_batches': 5000, 'warmup_number_of_batches': 0, 'attack_number_of_batches': 1, 'batch_size': 1, 'device': 0, 'verbose': False, 'pool_size': 1, 'run_number': 17, 'gradient_loss': 'euclidean', 'dummy_optimizer': 'adam', 'total_variation_alpha_inputs': 0, 'total_variation_beta_targets': 0, 'lr_decay': 'none', 'after_effect': 'none', 'update_model': True, 'model_evaluation_during_attack': False, 'dropout': 0, 'optimize_dropout': False, 'dropout_probability_regularizer': 0, 'use_grad_signs': False, 'dummy_init_method': 'rand', 'evaluate_trained_model': True, 'attack_method': 'DLG-Adam', 'base_num_attack_steps': 5000, 'learning_rate': 0.005, 'dataset': 'electricity_370', 'columns': ['MT_005'], 'train_stride': 24, 'validation_stride': 1, 'observation_days': 1, 'future_days': 1, 'normalize': 'minmax', 'hidden_size': 64, '_attack_step_multiplier': 1, 'features': [0], 'input_size': 96, 'output_size': 96, 'prune_rate': 0.1, 'defense_name': 'prune', 'model': 'FCN_Predictor', 'num_attack_steps': 5000, 'train_dataset_size': 699}\n",
      "finished attack\n"
     ]
    },
    {
     "data": {
      "text/html": [],
      "text/plain": [
       "<IPython.core.display.HTML object>"
      ]
     },
     "metadata": {},
     "output_type": "display_data"
    },
    {
     "name": "stdout",
     "output_type": "stream",
     "text": [
      "def_c {'prune_rate': 0.1, 'defense_name': 'prune'}\n",
      "Starting attack 18 with config: {'logger_service': 'wandb', 'experiment_name': 'baseline_with_defenses_5-3-2025a', 'seed': 43, 'number_of_batches': 5000, 'warmup_number_of_batches': 0, 'attack_number_of_batches': 1, 'batch_size': 1, 'device': 0, 'verbose': False, 'pool_size': 1, 'run_number': 18, 'gradient_loss': 'cosine_invg', 'dummy_optimizer': 'adam', 'total_variation_alpha_inputs': 0, 'total_variation_beta_targets': 0, 'lr_decay': 'multi_step', 'after_effect': 'boxed', 'update_model': True, 'model_evaluation_during_attack': False, 'dropout': 0, 'optimize_dropout': False, 'dropout_probability_regularizer': 0, 'use_grad_signs': True, 'dummy_init_method': 'rand', 'evaluate_trained_model': True, 'attack_method': 'InvG', 'base_num_attack_steps': 5000, 'learning_rate': 0.005, 'dataset': 'electricity_370', 'columns': ['MT_005'], 'train_stride': 24, 'validation_stride': 1, 'observation_days': 1, 'future_days': 1, 'normalize': 'minmax', 'hidden_size': 64, '_attack_step_multiplier': 1, 'features': [0], 'input_size': 96, 'output_size': 96, 'prune_rate': 0.1, 'defense_name': 'prune', 'model': 'FCN_Predictor', 'num_attack_steps': 5000, 'train_dataset_size': 699}\n",
      "finished attack\n"
     ]
    },
    {
     "data": {
      "text/html": [],
      "text/plain": [
       "<IPython.core.display.HTML object>"
      ]
     },
     "metadata": {},
     "output_type": "display_data"
    },
    {
     "name": "stdout",
     "output_type": "stream",
     "text": [
      "def_c {'prune_rate': 0.1, 'defense_name': 'prune'}\n",
      "Starting attack 19 with config: {'logger_service': 'wandb', 'experiment_name': 'baseline_with_defenses_5-3-2025a', 'seed': 43, 'number_of_batches': 5000, 'warmup_number_of_batches': 0, 'attack_number_of_batches': 1, 'batch_size': 1, 'device': 0, 'verbose': False, 'pool_size': 1, 'run_number': 19, 'gradient_loss': 'cosine_dia', 'dummy_optimizer': 'adam', 'total_variation_alpha_inputs': 0, 'total_variation_beta_targets': 0, 'lr_decay': 'on_plateau_10', 'after_effect': 'boxed', 'update_model': True, 'model_evaluation_during_attack': False, 'dropout': 0, 'optimize_dropout': True, 'dropout_probability_regularizer': 1e-06, 'use_grad_signs': True, 'dummy_init_method': 'rand', 'evaluate_trained_model': True, 'attack_method': 'DIA', 'base_num_attack_steps': 500, 'learning_rate': 0.1, 'clamp_dropout': 1, 'clamp_dropout_min_max': [0, 1], 'dropout_mask_init_type': 'bernoulli', 'dataset': 'electricity_370', 'columns': ['MT_005'], 'train_stride': 24, 'validation_stride': 1, 'observation_days': 1, 'future_days': 1, 'normalize': 'minmax', 'hidden_size': 64, '_attack_step_multiplier': 1, 'features': [0], 'input_size': 96, 'output_size': 96, 'prune_rate': 0.1, 'defense_name': 'prune', 'model': 'FCN_Predictor', 'num_attack_steps': 500, 'train_dataset_size': 699}\n",
      "finished attack\n"
     ]
    },
    {
     "data": {
      "text/html": [],
      "text/plain": [
       "<IPython.core.display.HTML object>"
      ]
     },
     "metadata": {},
     "output_type": "display_data"
    },
    {
     "name": "stdout",
     "output_type": "stream",
     "text": [
      "def_c {'prune_rate': 0.1, 'defense_name': 'prune'}\n",
      "Starting attack 20 with config: {'logger_service': 'wandb', 'experiment_name': 'baseline_with_defenses_5-3-2025a', 'seed': 28, 'number_of_batches': 5000, 'warmup_number_of_batches': 0, 'attack_number_of_batches': 1, 'batch_size': 1, 'device': 0, 'verbose': False, 'pool_size': 1, 'run_number': 20, 'gradient_loss': 'euclidean', 'dummy_optimizer': 'lbfgs', 'total_variation_alpha_inputs': 0, 'total_variation_beta_targets': 0, 'lr_decay': 'none', 'after_effect': 'none', 'update_model': True, 'model_evaluation_during_attack': False, 'dropout': 0, 'optimize_dropout': False, 'dropout_probability_regularizer': 0, 'use_grad_signs': False, 'dummy_init_method': 'rand', 'evaluate_trained_model': True, 'attack_method': 'DLG-LBFGS', 'base_num_attack_steps': 500, 'learning_rate': 0.005, 'dataset': 'electricity_370', 'columns': ['MT_005'], 'train_stride': 24, 'validation_stride': 1, 'observation_days': 1, 'future_days': 1, 'normalize': 'minmax', 'hidden_size': 64, '_attack_step_multiplier': 1, 'features': [0], 'input_size': 96, 'output_size': 96, 'prune_rate': 0.1, 'defense_name': 'prune', 'model': 'FCN_Predictor', 'num_attack_steps': 500, 'train_dataset_size': 699}\n",
      "finished attack\n"
     ]
    },
    {
     "data": {
      "text/html": [],
      "text/plain": [
       "<IPython.core.display.HTML object>"
      ]
     },
     "metadata": {},
     "output_type": "display_data"
    },
    {
     "name": "stdout",
     "output_type": "stream",
     "text": [
      "def_c {'prune_rate': 0.1, 'defense_name': 'prune'}\n",
      "Starting attack 21 with config: {'logger_service': 'wandb', 'experiment_name': 'baseline_with_defenses_5-3-2025a', 'seed': 28, 'number_of_batches': 5000, 'warmup_number_of_batches': 0, 'attack_number_of_batches': 1, 'batch_size': 1, 'device': 0, 'verbose': False, 'pool_size': 1, 'run_number': 21, 'gradient_loss': 'euclidean', 'dummy_optimizer': 'adam', 'total_variation_alpha_inputs': 0, 'total_variation_beta_targets': 0, 'lr_decay': 'none', 'after_effect': 'none', 'update_model': True, 'model_evaluation_during_attack': False, 'dropout': 0, 'optimize_dropout': False, 'dropout_probability_regularizer': 0, 'use_grad_signs': False, 'dummy_init_method': 'rand', 'evaluate_trained_model': True, 'attack_method': 'DLG-Adam', 'base_num_attack_steps': 5000, 'learning_rate': 0.005, 'dataset': 'electricity_370', 'columns': ['MT_005'], 'train_stride': 24, 'validation_stride': 1, 'observation_days': 1, 'future_days': 1, 'normalize': 'minmax', 'hidden_size': 64, '_attack_step_multiplier': 1, 'features': [0], 'input_size': 96, 'output_size': 96, 'prune_rate': 0.1, 'defense_name': 'prune', 'model': 'FCN_Predictor', 'num_attack_steps': 5000, 'train_dataset_size': 699}\n",
      "finished attack\n"
     ]
    },
    {
     "data": {
      "text/html": [],
      "text/plain": [
       "<IPython.core.display.HTML object>"
      ]
     },
     "metadata": {},
     "output_type": "display_data"
    },
    {
     "name": "stdout",
     "output_type": "stream",
     "text": [
      "def_c {'prune_rate': 0.1, 'defense_name': 'prune'}\n",
      "Starting attack 22 with config: {'logger_service': 'wandb', 'experiment_name': 'baseline_with_defenses_5-3-2025a', 'seed': 28, 'number_of_batches': 5000, 'warmup_number_of_batches': 0, 'attack_number_of_batches': 1, 'batch_size': 1, 'device': 0, 'verbose': False, 'pool_size': 1, 'run_number': 22, 'gradient_loss': 'cosine_invg', 'dummy_optimizer': 'adam', 'total_variation_alpha_inputs': 0, 'total_variation_beta_targets': 0, 'lr_decay': 'multi_step', 'after_effect': 'boxed', 'update_model': True, 'model_evaluation_during_attack': False, 'dropout': 0, 'optimize_dropout': False, 'dropout_probability_regularizer': 0, 'use_grad_signs': True, 'dummy_init_method': 'rand', 'evaluate_trained_model': True, 'attack_method': 'InvG', 'base_num_attack_steps': 5000, 'learning_rate': 0.005, 'dataset': 'electricity_370', 'columns': ['MT_005'], 'train_stride': 24, 'validation_stride': 1, 'observation_days': 1, 'future_days': 1, 'normalize': 'minmax', 'hidden_size': 64, '_attack_step_multiplier': 1, 'features': [0], 'input_size': 96, 'output_size': 96, 'prune_rate': 0.1, 'defense_name': 'prune', 'model': 'FCN_Predictor', 'num_attack_steps': 5000, 'train_dataset_size': 699}\n",
      "finished attack\n"
     ]
    },
    {
     "data": {
      "text/html": [],
      "text/plain": [
       "<IPython.core.display.HTML object>"
      ]
     },
     "metadata": {},
     "output_type": "display_data"
    },
    {
     "name": "stdout",
     "output_type": "stream",
     "text": [
      "def_c {'prune_rate': 0.1, 'defense_name': 'prune'}\n",
      "Starting attack 23 with config: {'logger_service': 'wandb', 'experiment_name': 'baseline_with_defenses_5-3-2025a', 'seed': 28, 'number_of_batches': 5000, 'warmup_number_of_batches': 0, 'attack_number_of_batches': 1, 'batch_size': 1, 'device': 0, 'verbose': False, 'pool_size': 1, 'run_number': 23, 'gradient_loss': 'cosine_dia', 'dummy_optimizer': 'adam', 'total_variation_alpha_inputs': 0, 'total_variation_beta_targets': 0, 'lr_decay': 'on_plateau_10', 'after_effect': 'boxed', 'update_model': True, 'model_evaluation_during_attack': False, 'dropout': 0, 'optimize_dropout': True, 'dropout_probability_regularizer': 1e-06, 'use_grad_signs': True, 'dummy_init_method': 'rand', 'evaluate_trained_model': True, 'attack_method': 'DIA', 'base_num_attack_steps': 500, 'learning_rate': 0.1, 'clamp_dropout': 1, 'clamp_dropout_min_max': [0, 1], 'dropout_mask_init_type': 'bernoulli', 'dataset': 'electricity_370', 'columns': ['MT_005'], 'train_stride': 24, 'validation_stride': 1, 'observation_days': 1, 'future_days': 1, 'normalize': 'minmax', 'hidden_size': 64, '_attack_step_multiplier': 1, 'features': [0], 'input_size': 96, 'output_size': 96, 'prune_rate': 0.1, 'defense_name': 'prune', 'model': 'FCN_Predictor', 'num_attack_steps': 500, 'train_dataset_size': 699}\n",
      "finished attack\n"
     ]
    },
    {
     "data": {
      "text/html": [],
      "text/plain": [
       "<IPython.core.display.HTML object>"
      ]
     },
     "metadata": {},
     "output_type": "display_data"
    },
    {
     "name": "stdout",
     "output_type": "stream",
     "text": [
      "def_c {'dp_epsilon': 0.1, 'defense_name': 'gauss'}\n",
      "Starting attack 24 with config: {'logger_service': 'wandb', 'experiment_name': 'baseline_with_defenses_5-3-2025a', 'seed': 10, 'number_of_batches': 5000, 'warmup_number_of_batches': 0, 'attack_number_of_batches': 1, 'batch_size': 1, 'device': 0, 'verbose': False, 'pool_size': 1, 'run_number': 24, 'gradient_loss': 'euclidean', 'dummy_optimizer': 'lbfgs', 'total_variation_alpha_inputs': 0, 'total_variation_beta_targets': 0, 'lr_decay': 'none', 'after_effect': 'none', 'update_model': True, 'model_evaluation_during_attack': False, 'dropout': 0, 'optimize_dropout': False, 'dropout_probability_regularizer': 0, 'use_grad_signs': False, 'dummy_init_method': 'rand', 'evaluate_trained_model': True, 'attack_method': 'DLG-LBFGS', 'base_num_attack_steps': 500, 'learning_rate': 0.005, 'dataset': 'electricity_370', 'columns': ['MT_005'], 'train_stride': 24, 'validation_stride': 1, 'observation_days': 1, 'future_days': 1, 'normalize': 'minmax', 'hidden_size': 64, '_attack_step_multiplier': 1, 'features': [0], 'input_size': 96, 'output_size': 96, 'dp_epsilon': 0.1, 'defense_name': 'gauss', 'model': 'FCN_Predictor', 'num_attack_steps': 500, 'train_dataset_size': 699}\n",
      "finished attack\n"
     ]
    },
    {
     "data": {
      "text/html": [],
      "text/plain": [
       "<IPython.core.display.HTML object>"
      ]
     },
     "metadata": {},
     "output_type": "display_data"
    },
    {
     "name": "stdout",
     "output_type": "stream",
     "text": [
      "def_c {'dp_epsilon': 0.1, 'defense_name': 'gauss'}\n",
      "Starting attack 25 with config: {'logger_service': 'wandb', 'experiment_name': 'baseline_with_defenses_5-3-2025a', 'seed': 10, 'number_of_batches': 5000, 'warmup_number_of_batches': 0, 'attack_number_of_batches': 1, 'batch_size': 1, 'device': 0, 'verbose': False, 'pool_size': 1, 'run_number': 25, 'gradient_loss': 'euclidean', 'dummy_optimizer': 'adam', 'total_variation_alpha_inputs': 0, 'total_variation_beta_targets': 0, 'lr_decay': 'none', 'after_effect': 'none', 'update_model': True, 'model_evaluation_during_attack': False, 'dropout': 0, 'optimize_dropout': False, 'dropout_probability_regularizer': 0, 'use_grad_signs': False, 'dummy_init_method': 'rand', 'evaluate_trained_model': True, 'attack_method': 'DLG-Adam', 'base_num_attack_steps': 5000, 'learning_rate': 0.005, 'dataset': 'electricity_370', 'columns': ['MT_005'], 'train_stride': 24, 'validation_stride': 1, 'observation_days': 1, 'future_days': 1, 'normalize': 'minmax', 'hidden_size': 64, '_attack_step_multiplier': 1, 'features': [0], 'input_size': 96, 'output_size': 96, 'dp_epsilon': 0.1, 'defense_name': 'gauss', 'model': 'FCN_Predictor', 'num_attack_steps': 5000, 'train_dataset_size': 699}\n",
      "finished attack\n"
     ]
    },
    {
     "data": {
      "text/html": [],
      "text/plain": [
       "<IPython.core.display.HTML object>"
      ]
     },
     "metadata": {},
     "output_type": "display_data"
    },
    {
     "name": "stdout",
     "output_type": "stream",
     "text": [
      "def_c {'dp_epsilon': 0.1, 'defense_name': 'gauss'}\n",
      "Starting attack 26 with config: {'logger_service': 'wandb', 'experiment_name': 'baseline_with_defenses_5-3-2025a', 'seed': 10, 'number_of_batches': 5000, 'warmup_number_of_batches': 0, 'attack_number_of_batches': 1, 'batch_size': 1, 'device': 0, 'verbose': False, 'pool_size': 1, 'run_number': 26, 'gradient_loss': 'cosine_invg', 'dummy_optimizer': 'adam', 'total_variation_alpha_inputs': 0, 'total_variation_beta_targets': 0, 'lr_decay': 'multi_step', 'after_effect': 'boxed', 'update_model': True, 'model_evaluation_during_attack': False, 'dropout': 0, 'optimize_dropout': False, 'dropout_probability_regularizer': 0, 'use_grad_signs': True, 'dummy_init_method': 'rand', 'evaluate_trained_model': True, 'attack_method': 'InvG', 'base_num_attack_steps': 5000, 'learning_rate': 0.005, 'dataset': 'electricity_370', 'columns': ['MT_005'], 'train_stride': 24, 'validation_stride': 1, 'observation_days': 1, 'future_days': 1, 'normalize': 'minmax', 'hidden_size': 64, '_attack_step_multiplier': 1, 'features': [0], 'input_size': 96, 'output_size': 96, 'dp_epsilon': 0.1, 'defense_name': 'gauss', 'model': 'FCN_Predictor', 'num_attack_steps': 5000, 'train_dataset_size': 699}\n",
      "finished attack\n"
     ]
    },
    {
     "data": {
      "text/html": [],
      "text/plain": [
       "<IPython.core.display.HTML object>"
      ]
     },
     "metadata": {},
     "output_type": "display_data"
    },
    {
     "name": "stdout",
     "output_type": "stream",
     "text": [
      "def_c {'dp_epsilon': 0.1, 'defense_name': 'gauss'}\n",
      "Starting attack 27 with config: {'logger_service': 'wandb', 'experiment_name': 'baseline_with_defenses_5-3-2025a', 'seed': 10, 'number_of_batches': 5000, 'warmup_number_of_batches': 0, 'attack_number_of_batches': 1, 'batch_size': 1, 'device': 0, 'verbose': False, 'pool_size': 1, 'run_number': 27, 'gradient_loss': 'cosine_dia', 'dummy_optimizer': 'adam', 'total_variation_alpha_inputs': 0, 'total_variation_beta_targets': 0, 'lr_decay': 'on_plateau_10', 'after_effect': 'boxed', 'update_model': True, 'model_evaluation_during_attack': False, 'dropout': 0, 'optimize_dropout': True, 'dropout_probability_regularizer': 1e-06, 'use_grad_signs': True, 'dummy_init_method': 'rand', 'evaluate_trained_model': True, 'attack_method': 'DIA', 'base_num_attack_steps': 500, 'learning_rate': 0.1, 'clamp_dropout': 1, 'clamp_dropout_min_max': [0, 1], 'dropout_mask_init_type': 'bernoulli', 'dataset': 'electricity_370', 'columns': ['MT_005'], 'train_stride': 24, 'validation_stride': 1, 'observation_days': 1, 'future_days': 1, 'normalize': 'minmax', 'hidden_size': 64, '_attack_step_multiplier': 1, 'features': [0], 'input_size': 96, 'output_size': 96, 'dp_epsilon': 0.1, 'defense_name': 'gauss', 'model': 'FCN_Predictor', 'num_attack_steps': 500, 'train_dataset_size': 699}\n",
      "finished attack\n"
     ]
    },
    {
     "data": {
      "text/html": [],
      "text/plain": [
       "<IPython.core.display.HTML object>"
      ]
     },
     "metadata": {},
     "output_type": "display_data"
    },
    {
     "name": "stdout",
     "output_type": "stream",
     "text": [
      "def_c {'dp_epsilon': 0.1, 'defense_name': 'gauss'}\n",
      "Starting attack 28 with config: {'logger_service': 'wandb', 'experiment_name': 'baseline_with_defenses_5-3-2025a', 'seed': 43, 'number_of_batches': 5000, 'warmup_number_of_batches': 0, 'attack_number_of_batches': 1, 'batch_size': 1, 'device': 0, 'verbose': False, 'pool_size': 1, 'run_number': 28, 'gradient_loss': 'euclidean', 'dummy_optimizer': 'lbfgs', 'total_variation_alpha_inputs': 0, 'total_variation_beta_targets': 0, 'lr_decay': 'none', 'after_effect': 'none', 'update_model': True, 'model_evaluation_during_attack': False, 'dropout': 0, 'optimize_dropout': False, 'dropout_probability_regularizer': 0, 'use_grad_signs': False, 'dummy_init_method': 'rand', 'evaluate_trained_model': True, 'attack_method': 'DLG-LBFGS', 'base_num_attack_steps': 500, 'learning_rate': 0.005, 'dataset': 'electricity_370', 'columns': ['MT_005'], 'train_stride': 24, 'validation_stride': 1, 'observation_days': 1, 'future_days': 1, 'normalize': 'minmax', 'hidden_size': 64, '_attack_step_multiplier': 1, 'features': [0], 'input_size': 96, 'output_size': 96, 'dp_epsilon': 0.1, 'defense_name': 'gauss', 'model': 'FCN_Predictor', 'num_attack_steps': 500, 'train_dataset_size': 699}\n",
      "finished attack\n"
     ]
    },
    {
     "data": {
      "text/html": [],
      "text/plain": [
       "<IPython.core.display.HTML object>"
      ]
     },
     "metadata": {},
     "output_type": "display_data"
    },
    {
     "name": "stdout",
     "output_type": "stream",
     "text": [
      "def_c {'dp_epsilon': 0.1, 'defense_name': 'gauss'}\n",
      "Starting attack 29 with config: {'logger_service': 'wandb', 'experiment_name': 'baseline_with_defenses_5-3-2025a', 'seed': 43, 'number_of_batches': 5000, 'warmup_number_of_batches': 0, 'attack_number_of_batches': 1, 'batch_size': 1, 'device': 0, 'verbose': False, 'pool_size': 1, 'run_number': 29, 'gradient_loss': 'euclidean', 'dummy_optimizer': 'adam', 'total_variation_alpha_inputs': 0, 'total_variation_beta_targets': 0, 'lr_decay': 'none', 'after_effect': 'none', 'update_model': True, 'model_evaluation_during_attack': False, 'dropout': 0, 'optimize_dropout': False, 'dropout_probability_regularizer': 0, 'use_grad_signs': False, 'dummy_init_method': 'rand', 'evaluate_trained_model': True, 'attack_method': 'DLG-Adam', 'base_num_attack_steps': 5000, 'learning_rate': 0.005, 'dataset': 'electricity_370', 'columns': ['MT_005'], 'train_stride': 24, 'validation_stride': 1, 'observation_days': 1, 'future_days': 1, 'normalize': 'minmax', 'hidden_size': 64, '_attack_step_multiplier': 1, 'features': [0], 'input_size': 96, 'output_size': 96, 'dp_epsilon': 0.1, 'defense_name': 'gauss', 'model': 'FCN_Predictor', 'num_attack_steps': 5000, 'train_dataset_size': 699}\n",
      "finished attack\n"
     ]
    },
    {
     "data": {
      "text/html": [],
      "text/plain": [
       "<IPython.core.display.HTML object>"
      ]
     },
     "metadata": {},
     "output_type": "display_data"
    },
    {
     "name": "stdout",
     "output_type": "stream",
     "text": [
      "def_c {'dp_epsilon': 0.1, 'defense_name': 'gauss'}\n",
      "Starting attack 30 with config: {'logger_service': 'wandb', 'experiment_name': 'baseline_with_defenses_5-3-2025a', 'seed': 43, 'number_of_batches': 5000, 'warmup_number_of_batches': 0, 'attack_number_of_batches': 1, 'batch_size': 1, 'device': 0, 'verbose': False, 'pool_size': 1, 'run_number': 30, 'gradient_loss': 'cosine_invg', 'dummy_optimizer': 'adam', 'total_variation_alpha_inputs': 0, 'total_variation_beta_targets': 0, 'lr_decay': 'multi_step', 'after_effect': 'boxed', 'update_model': True, 'model_evaluation_during_attack': False, 'dropout': 0, 'optimize_dropout': False, 'dropout_probability_regularizer': 0, 'use_grad_signs': True, 'dummy_init_method': 'rand', 'evaluate_trained_model': True, 'attack_method': 'InvG', 'base_num_attack_steps': 5000, 'learning_rate': 0.005, 'dataset': 'electricity_370', 'columns': ['MT_005'], 'train_stride': 24, 'validation_stride': 1, 'observation_days': 1, 'future_days': 1, 'normalize': 'minmax', 'hidden_size': 64, '_attack_step_multiplier': 1, 'features': [0], 'input_size': 96, 'output_size': 96, 'dp_epsilon': 0.1, 'defense_name': 'gauss', 'model': 'FCN_Predictor', 'num_attack_steps': 5000, 'train_dataset_size': 699}\n",
      "finished attack\n"
     ]
    },
    {
     "data": {
      "text/html": [],
      "text/plain": [
       "<IPython.core.display.HTML object>"
      ]
     },
     "metadata": {},
     "output_type": "display_data"
    },
    {
     "name": "stdout",
     "output_type": "stream",
     "text": [
      "def_c {'dp_epsilon': 0.1, 'defense_name': 'gauss'}\n",
      "Starting attack 31 with config: {'logger_service': 'wandb', 'experiment_name': 'baseline_with_defenses_5-3-2025a', 'seed': 43, 'number_of_batches': 5000, 'warmup_number_of_batches': 0, 'attack_number_of_batches': 1, 'batch_size': 1, 'device': 0, 'verbose': False, 'pool_size': 1, 'run_number': 31, 'gradient_loss': 'cosine_dia', 'dummy_optimizer': 'adam', 'total_variation_alpha_inputs': 0, 'total_variation_beta_targets': 0, 'lr_decay': 'on_plateau_10', 'after_effect': 'boxed', 'update_model': True, 'model_evaluation_during_attack': False, 'dropout': 0, 'optimize_dropout': True, 'dropout_probability_regularizer': 1e-06, 'use_grad_signs': True, 'dummy_init_method': 'rand', 'evaluate_trained_model': True, 'attack_method': 'DIA', 'base_num_attack_steps': 500, 'learning_rate': 0.1, 'clamp_dropout': 1, 'clamp_dropout_min_max': [0, 1], 'dropout_mask_init_type': 'bernoulli', 'dataset': 'electricity_370', 'columns': ['MT_005'], 'train_stride': 24, 'validation_stride': 1, 'observation_days': 1, 'future_days': 1, 'normalize': 'minmax', 'hidden_size': 64, '_attack_step_multiplier': 1, 'features': [0], 'input_size': 96, 'output_size': 96, 'dp_epsilon': 0.1, 'defense_name': 'gauss', 'model': 'FCN_Predictor', 'num_attack_steps': 500, 'train_dataset_size': 699}\n",
      "finished attack\n"
     ]
    },
    {
     "data": {
      "text/html": [],
      "text/plain": [
       "<IPython.core.display.HTML object>"
      ]
     },
     "metadata": {},
     "output_type": "display_data"
    },
    {
     "name": "stdout",
     "output_type": "stream",
     "text": [
      "def_c {'dp_epsilon': 0.1, 'defense_name': 'gauss'}\n",
      "Starting attack 32 with config: {'logger_service': 'wandb', 'experiment_name': 'baseline_with_defenses_5-3-2025a', 'seed': 28, 'number_of_batches': 5000, 'warmup_number_of_batches': 0, 'attack_number_of_batches': 1, 'batch_size': 1, 'device': 0, 'verbose': False, 'pool_size': 1, 'run_number': 32, 'gradient_loss': 'euclidean', 'dummy_optimizer': 'lbfgs', 'total_variation_alpha_inputs': 0, 'total_variation_beta_targets': 0, 'lr_decay': 'none', 'after_effect': 'none', 'update_model': True, 'model_evaluation_during_attack': False, 'dropout': 0, 'optimize_dropout': False, 'dropout_probability_regularizer': 0, 'use_grad_signs': False, 'dummy_init_method': 'rand', 'evaluate_trained_model': True, 'attack_method': 'DLG-LBFGS', 'base_num_attack_steps': 500, 'learning_rate': 0.005, 'dataset': 'electricity_370', 'columns': ['MT_005'], 'train_stride': 24, 'validation_stride': 1, 'observation_days': 1, 'future_days': 1, 'normalize': 'minmax', 'hidden_size': 64, '_attack_step_multiplier': 1, 'features': [0], 'input_size': 96, 'output_size': 96, 'dp_epsilon': 0.1, 'defense_name': 'gauss', 'model': 'FCN_Predictor', 'num_attack_steps': 500, 'train_dataset_size': 699}\n",
      "finished attack\n"
     ]
    },
    {
     "data": {
      "text/html": [],
      "text/plain": [
       "<IPython.core.display.HTML object>"
      ]
     },
     "metadata": {},
     "output_type": "display_data"
    },
    {
     "name": "stdout",
     "output_type": "stream",
     "text": [
      "def_c {'dp_epsilon': 0.1, 'defense_name': 'gauss'}\n",
      "Starting attack 33 with config: {'logger_service': 'wandb', 'experiment_name': 'baseline_with_defenses_5-3-2025a', 'seed': 28, 'number_of_batches': 5000, 'warmup_number_of_batches': 0, 'attack_number_of_batches': 1, 'batch_size': 1, 'device': 0, 'verbose': False, 'pool_size': 1, 'run_number': 33, 'gradient_loss': 'euclidean', 'dummy_optimizer': 'adam', 'total_variation_alpha_inputs': 0, 'total_variation_beta_targets': 0, 'lr_decay': 'none', 'after_effect': 'none', 'update_model': True, 'model_evaluation_during_attack': False, 'dropout': 0, 'optimize_dropout': False, 'dropout_probability_regularizer': 0, 'use_grad_signs': False, 'dummy_init_method': 'rand', 'evaluate_trained_model': True, 'attack_method': 'DLG-Adam', 'base_num_attack_steps': 5000, 'learning_rate': 0.005, 'dataset': 'electricity_370', 'columns': ['MT_005'], 'train_stride': 24, 'validation_stride': 1, 'observation_days': 1, 'future_days': 1, 'normalize': 'minmax', 'hidden_size': 64, '_attack_step_multiplier': 1, 'features': [0], 'input_size': 96, 'output_size': 96, 'dp_epsilon': 0.1, 'defense_name': 'gauss', 'model': 'FCN_Predictor', 'num_attack_steps': 5000, 'train_dataset_size': 699}\n",
      "finished attack\n"
     ]
    },
    {
     "data": {
      "text/html": [],
      "text/plain": [
       "<IPython.core.display.HTML object>"
      ]
     },
     "metadata": {},
     "output_type": "display_data"
    },
    {
     "name": "stdout",
     "output_type": "stream",
     "text": [
      "def_c {'dp_epsilon': 0.1, 'defense_name': 'gauss'}\n",
      "Starting attack 34 with config: {'logger_service': 'wandb', 'experiment_name': 'baseline_with_defenses_5-3-2025a', 'seed': 28, 'number_of_batches': 5000, 'warmup_number_of_batches': 0, 'attack_number_of_batches': 1, 'batch_size': 1, 'device': 0, 'verbose': False, 'pool_size': 1, 'run_number': 34, 'gradient_loss': 'cosine_invg', 'dummy_optimizer': 'adam', 'total_variation_alpha_inputs': 0, 'total_variation_beta_targets': 0, 'lr_decay': 'multi_step', 'after_effect': 'boxed', 'update_model': True, 'model_evaluation_during_attack': False, 'dropout': 0, 'optimize_dropout': False, 'dropout_probability_regularizer': 0, 'use_grad_signs': True, 'dummy_init_method': 'rand', 'evaluate_trained_model': True, 'attack_method': 'InvG', 'base_num_attack_steps': 5000, 'learning_rate': 0.005, 'dataset': 'electricity_370', 'columns': ['MT_005'], 'train_stride': 24, 'validation_stride': 1, 'observation_days': 1, 'future_days': 1, 'normalize': 'minmax', 'hidden_size': 64, '_attack_step_multiplier': 1, 'features': [0], 'input_size': 96, 'output_size': 96, 'dp_epsilon': 0.1, 'defense_name': 'gauss', 'model': 'FCN_Predictor', 'num_attack_steps': 5000, 'train_dataset_size': 699}\n",
      "finished attack\n"
     ]
    },
    {
     "data": {
      "text/html": [],
      "text/plain": [
       "<IPython.core.display.HTML object>"
      ]
     },
     "metadata": {},
     "output_type": "display_data"
    },
    {
     "name": "stdout",
     "output_type": "stream",
     "text": [
      "def_c {'dp_epsilon': 0.1, 'defense_name': 'gauss'}\n",
      "Starting attack 35 with config: {'logger_service': 'wandb', 'experiment_name': 'baseline_with_defenses_5-3-2025a', 'seed': 28, 'number_of_batches': 5000, 'warmup_number_of_batches': 0, 'attack_number_of_batches': 1, 'batch_size': 1, 'device': 0, 'verbose': False, 'pool_size': 1, 'run_number': 35, 'gradient_loss': 'cosine_dia', 'dummy_optimizer': 'adam', 'total_variation_alpha_inputs': 0, 'total_variation_beta_targets': 0, 'lr_decay': 'on_plateau_10', 'after_effect': 'boxed', 'update_model': True, 'model_evaluation_during_attack': False, 'dropout': 0, 'optimize_dropout': True, 'dropout_probability_regularizer': 1e-06, 'use_grad_signs': True, 'dummy_init_method': 'rand', 'evaluate_trained_model': True, 'attack_method': 'DIA', 'base_num_attack_steps': 500, 'learning_rate': 0.1, 'clamp_dropout': 1, 'clamp_dropout_min_max': [0, 1], 'dropout_mask_init_type': 'bernoulli', 'dataset': 'electricity_370', 'columns': ['MT_005'], 'train_stride': 24, 'validation_stride': 1, 'observation_days': 1, 'future_days': 1, 'normalize': 'minmax', 'hidden_size': 64, '_attack_step_multiplier': 1, 'features': [0], 'input_size': 96, 'output_size': 96, 'dp_epsilon': 0.1, 'defense_name': 'gauss', 'model': 'FCN_Predictor', 'num_attack_steps': 500, 'train_dataset_size': 699}\n",
      "finished attack\n"
     ]
    },
    {
     "data": {
      "text/html": [],
      "text/plain": [
       "<IPython.core.display.HTML object>"
      ]
     },
     "metadata": {},
     "output_type": "display_data"
    },
    {
     "name": "stdout",
     "output_type": "stream",
     "text": [
      "def_c {'defense_name': 'none'}\n",
      "Starting attack 36 with config: {'logger_service': 'wandb', 'experiment_name': 'baseline_with_defenses_5-3-2025a', 'seed': 10, 'number_of_batches': 5000, 'warmup_number_of_batches': 0, 'attack_number_of_batches': 1, 'batch_size': 1, 'device': 0, 'verbose': False, 'pool_size': 1, 'run_number': 36, 'gradient_loss': 'euclidean', 'dummy_optimizer': 'lbfgs', 'total_variation_alpha_inputs': 0, 'total_variation_beta_targets': 0, 'lr_decay': 'none', 'after_effect': 'none', 'update_model': True, 'model_evaluation_during_attack': False, 'dropout': 0, 'optimize_dropout': False, 'dropout_probability_regularizer': 0, 'use_grad_signs': False, 'dummy_init_method': 'rand', 'evaluate_trained_model': True, 'attack_method': 'DLG-LBFGS', 'base_num_attack_steps': 500, 'learning_rate': 0.005, 'dataset': 'electricity_370', 'columns': ['MT_005'], 'train_stride': 24, 'validation_stride': 1, 'observation_days': 1, 'future_days': 1, 'normalize': 'minmax', 'hidden_size': 64, '_attack_step_multiplier': 1, 'features': [0], 'input_size': 96, 'output_size': 96, 'defense_name': 'none', 'model': 'FCN_Predictor', 'num_attack_steps': 500, 'train_dataset_size': 699}\n",
      "finished attack\n"
     ]
    },
    {
     "data": {
      "text/html": [],
      "text/plain": [
       "<IPython.core.display.HTML object>"
      ]
     },
     "metadata": {},
     "output_type": "display_data"
    },
    {
     "name": "stdout",
     "output_type": "stream",
     "text": [
      "def_c {'defense_name': 'none'}\n",
      "Starting attack 37 with config: {'logger_service': 'wandb', 'experiment_name': 'baseline_with_defenses_5-3-2025a', 'seed': 10, 'number_of_batches': 5000, 'warmup_number_of_batches': 0, 'attack_number_of_batches': 1, 'batch_size': 1, 'device': 0, 'verbose': False, 'pool_size': 1, 'run_number': 37, 'gradient_loss': 'euclidean', 'dummy_optimizer': 'adam', 'total_variation_alpha_inputs': 0, 'total_variation_beta_targets': 0, 'lr_decay': 'none', 'after_effect': 'none', 'update_model': True, 'model_evaluation_during_attack': False, 'dropout': 0, 'optimize_dropout': False, 'dropout_probability_regularizer': 0, 'use_grad_signs': False, 'dummy_init_method': 'rand', 'evaluate_trained_model': True, 'attack_method': 'DLG-Adam', 'base_num_attack_steps': 5000, 'learning_rate': 0.005, 'dataset': 'electricity_370', 'columns': ['MT_005'], 'train_stride': 24, 'validation_stride': 1, 'observation_days': 1, 'future_days': 1, 'normalize': 'minmax', 'hidden_size': 64, '_attack_step_multiplier': 1, 'features': [0], 'input_size': 96, 'output_size': 96, 'defense_name': 'none', 'model': 'FCN_Predictor', 'num_attack_steps': 5000, 'train_dataset_size': 699}\n",
      "finished attack\n"
     ]
    },
    {
     "data": {
      "text/html": [],
      "text/plain": [
       "<IPython.core.display.HTML object>"
      ]
     },
     "metadata": {},
     "output_type": "display_data"
    },
    {
     "name": "stdout",
     "output_type": "stream",
     "text": [
      "def_c {'defense_name': 'none'}\n",
      "Starting attack 38 with config: {'logger_service': 'wandb', 'experiment_name': 'baseline_with_defenses_5-3-2025a', 'seed': 10, 'number_of_batches': 5000, 'warmup_number_of_batches': 0, 'attack_number_of_batches': 1, 'batch_size': 1, 'device': 0, 'verbose': False, 'pool_size': 1, 'run_number': 38, 'gradient_loss': 'cosine_invg', 'dummy_optimizer': 'adam', 'total_variation_alpha_inputs': 0, 'total_variation_beta_targets': 0, 'lr_decay': 'multi_step', 'after_effect': 'boxed', 'update_model': True, 'model_evaluation_during_attack': False, 'dropout': 0, 'optimize_dropout': False, 'dropout_probability_regularizer': 0, 'use_grad_signs': True, 'dummy_init_method': 'rand', 'evaluate_trained_model': True, 'attack_method': 'InvG', 'base_num_attack_steps': 5000, 'learning_rate': 0.005, 'dataset': 'electricity_370', 'columns': ['MT_005'], 'train_stride': 24, 'validation_stride': 1, 'observation_days': 1, 'future_days': 1, 'normalize': 'minmax', 'hidden_size': 64, '_attack_step_multiplier': 1, 'features': [0], 'input_size': 96, 'output_size': 96, 'defense_name': 'none', 'model': 'FCN_Predictor', 'num_attack_steps': 5000, 'train_dataset_size': 699}\n",
      "finished attack\n"
     ]
    },
    {
     "data": {
      "text/html": [],
      "text/plain": [
       "<IPython.core.display.HTML object>"
      ]
     },
     "metadata": {},
     "output_type": "display_data"
    },
    {
     "name": "stdout",
     "output_type": "stream",
     "text": [
      "def_c {'defense_name': 'none'}\n",
      "Starting attack 39 with config: {'logger_service': 'wandb', 'experiment_name': 'baseline_with_defenses_5-3-2025a', 'seed': 10, 'number_of_batches': 5000, 'warmup_number_of_batches': 0, 'attack_number_of_batches': 1, 'batch_size': 1, 'device': 0, 'verbose': False, 'pool_size': 1, 'run_number': 39, 'gradient_loss': 'cosine_dia', 'dummy_optimizer': 'adam', 'total_variation_alpha_inputs': 0, 'total_variation_beta_targets': 0, 'lr_decay': 'on_plateau_10', 'after_effect': 'boxed', 'update_model': True, 'model_evaluation_during_attack': False, 'dropout': 0, 'optimize_dropout': True, 'dropout_probability_regularizer': 1e-06, 'use_grad_signs': True, 'dummy_init_method': 'rand', 'evaluate_trained_model': True, 'attack_method': 'DIA', 'base_num_attack_steps': 500, 'learning_rate': 0.1, 'clamp_dropout': 1, 'clamp_dropout_min_max': [0, 1], 'dropout_mask_init_type': 'bernoulli', 'dataset': 'electricity_370', 'columns': ['MT_005'], 'train_stride': 24, 'validation_stride': 1, 'observation_days': 1, 'future_days': 1, 'normalize': 'minmax', 'hidden_size': 64, '_attack_step_multiplier': 1, 'features': [0], 'input_size': 96, 'output_size': 96, 'defense_name': 'none', 'model': 'FCN_Predictor', 'num_attack_steps': 500, 'train_dataset_size': 699}\n",
      "finished attack\n"
     ]
    },
    {
     "data": {
      "text/html": [],
      "text/plain": [
       "<IPython.core.display.HTML object>"
      ]
     },
     "metadata": {},
     "output_type": "display_data"
    },
    {
     "name": "stdout",
     "output_type": "stream",
     "text": [
      "def_c {'defense_name': 'none'}\n",
      "Starting attack 40 with config: {'logger_service': 'wandb', 'experiment_name': 'baseline_with_defenses_5-3-2025a', 'seed': 43, 'number_of_batches': 5000, 'warmup_number_of_batches': 0, 'attack_number_of_batches': 1, 'batch_size': 1, 'device': 0, 'verbose': False, 'pool_size': 1, 'run_number': 40, 'gradient_loss': 'euclidean', 'dummy_optimizer': 'lbfgs', 'total_variation_alpha_inputs': 0, 'total_variation_beta_targets': 0, 'lr_decay': 'none', 'after_effect': 'none', 'update_model': True, 'model_evaluation_during_attack': False, 'dropout': 0, 'optimize_dropout': False, 'dropout_probability_regularizer': 0, 'use_grad_signs': False, 'dummy_init_method': 'rand', 'evaluate_trained_model': True, 'attack_method': 'DLG-LBFGS', 'base_num_attack_steps': 500, 'learning_rate': 0.005, 'dataset': 'electricity_370', 'columns': ['MT_005'], 'train_stride': 24, 'validation_stride': 1, 'observation_days': 1, 'future_days': 1, 'normalize': 'minmax', 'hidden_size': 64, '_attack_step_multiplier': 1, 'features': [0], 'input_size': 96, 'output_size': 96, 'defense_name': 'none', 'model': 'FCN_Predictor', 'num_attack_steps': 500, 'train_dataset_size': 699}\n",
      "finished attack\n"
     ]
    },
    {
     "data": {
      "text/html": [],
      "text/plain": [
       "<IPython.core.display.HTML object>"
      ]
     },
     "metadata": {},
     "output_type": "display_data"
    },
    {
     "name": "stdout",
     "output_type": "stream",
     "text": [
      "def_c {'defense_name': 'none'}\n",
      "Starting attack 41 with config: {'logger_service': 'wandb', 'experiment_name': 'baseline_with_defenses_5-3-2025a', 'seed': 43, 'number_of_batches': 5000, 'warmup_number_of_batches': 0, 'attack_number_of_batches': 1, 'batch_size': 1, 'device': 0, 'verbose': False, 'pool_size': 1, 'run_number': 41, 'gradient_loss': 'euclidean', 'dummy_optimizer': 'adam', 'total_variation_alpha_inputs': 0, 'total_variation_beta_targets': 0, 'lr_decay': 'none', 'after_effect': 'none', 'update_model': True, 'model_evaluation_during_attack': False, 'dropout': 0, 'optimize_dropout': False, 'dropout_probability_regularizer': 0, 'use_grad_signs': False, 'dummy_init_method': 'rand', 'evaluate_trained_model': True, 'attack_method': 'DLG-Adam', 'base_num_attack_steps': 5000, 'learning_rate': 0.005, 'dataset': 'electricity_370', 'columns': ['MT_005'], 'train_stride': 24, 'validation_stride': 1, 'observation_days': 1, 'future_days': 1, 'normalize': 'minmax', 'hidden_size': 64, '_attack_step_multiplier': 1, 'features': [0], 'input_size': 96, 'output_size': 96, 'defense_name': 'none', 'model': 'FCN_Predictor', 'num_attack_steps': 5000, 'train_dataset_size': 699}\n",
      "finished attack\n"
     ]
    },
    {
     "data": {
      "text/html": [],
      "text/plain": [
       "<IPython.core.display.HTML object>"
      ]
     },
     "metadata": {},
     "output_type": "display_data"
    },
    {
     "name": "stdout",
     "output_type": "stream",
     "text": [
      "def_c {'defense_name': 'none'}\n",
      "Starting attack 42 with config: {'logger_service': 'wandb', 'experiment_name': 'baseline_with_defenses_5-3-2025a', 'seed': 43, 'number_of_batches': 5000, 'warmup_number_of_batches': 0, 'attack_number_of_batches': 1, 'batch_size': 1, 'device': 0, 'verbose': False, 'pool_size': 1, 'run_number': 42, 'gradient_loss': 'cosine_invg', 'dummy_optimizer': 'adam', 'total_variation_alpha_inputs': 0, 'total_variation_beta_targets': 0, 'lr_decay': 'multi_step', 'after_effect': 'boxed', 'update_model': True, 'model_evaluation_during_attack': False, 'dropout': 0, 'optimize_dropout': False, 'dropout_probability_regularizer': 0, 'use_grad_signs': True, 'dummy_init_method': 'rand', 'evaluate_trained_model': True, 'attack_method': 'InvG', 'base_num_attack_steps': 5000, 'learning_rate': 0.005, 'dataset': 'electricity_370', 'columns': ['MT_005'], 'train_stride': 24, 'validation_stride': 1, 'observation_days': 1, 'future_days': 1, 'normalize': 'minmax', 'hidden_size': 64, '_attack_step_multiplier': 1, 'features': [0], 'input_size': 96, 'output_size': 96, 'defense_name': 'none', 'model': 'FCN_Predictor', 'num_attack_steps': 5000, 'train_dataset_size': 699}\n",
      "finished attack\n"
     ]
    },
    {
     "data": {
      "text/html": [],
      "text/plain": [
       "<IPython.core.display.HTML object>"
      ]
     },
     "metadata": {},
     "output_type": "display_data"
    },
    {
     "name": "stdout",
     "output_type": "stream",
     "text": [
      "def_c {'defense_name': 'none'}\n",
      "Starting attack 43 with config: {'logger_service': 'wandb', 'experiment_name': 'baseline_with_defenses_5-3-2025a', 'seed': 43, 'number_of_batches': 5000, 'warmup_number_of_batches': 0, 'attack_number_of_batches': 1, 'batch_size': 1, 'device': 0, 'verbose': False, 'pool_size': 1, 'run_number': 43, 'gradient_loss': 'cosine_dia', 'dummy_optimizer': 'adam', 'total_variation_alpha_inputs': 0, 'total_variation_beta_targets': 0, 'lr_decay': 'on_plateau_10', 'after_effect': 'boxed', 'update_model': True, 'model_evaluation_during_attack': False, 'dropout': 0, 'optimize_dropout': True, 'dropout_probability_regularizer': 1e-06, 'use_grad_signs': True, 'dummy_init_method': 'rand', 'evaluate_trained_model': True, 'attack_method': 'DIA', 'base_num_attack_steps': 500, 'learning_rate': 0.1, 'clamp_dropout': 1, 'clamp_dropout_min_max': [0, 1], 'dropout_mask_init_type': 'bernoulli', 'dataset': 'electricity_370', 'columns': ['MT_005'], 'train_stride': 24, 'validation_stride': 1, 'observation_days': 1, 'future_days': 1, 'normalize': 'minmax', 'hidden_size': 64, '_attack_step_multiplier': 1, 'features': [0], 'input_size': 96, 'output_size': 96, 'defense_name': 'none', 'model': 'FCN_Predictor', 'num_attack_steps': 500, 'train_dataset_size': 699}\n",
      "finished attack\n"
     ]
    },
    {
     "data": {
      "text/html": [],
      "text/plain": [
       "<IPython.core.display.HTML object>"
      ]
     },
     "metadata": {},
     "output_type": "display_data"
    },
    {
     "name": "stdout",
     "output_type": "stream",
     "text": [
      "def_c {'defense_name': 'none'}\n",
      "Starting attack 44 with config: {'logger_service': 'wandb', 'experiment_name': 'baseline_with_defenses_5-3-2025a', 'seed': 28, 'number_of_batches': 5000, 'warmup_number_of_batches': 0, 'attack_number_of_batches': 1, 'batch_size': 1, 'device': 0, 'verbose': False, 'pool_size': 1, 'run_number': 44, 'gradient_loss': 'euclidean', 'dummy_optimizer': 'lbfgs', 'total_variation_alpha_inputs': 0, 'total_variation_beta_targets': 0, 'lr_decay': 'none', 'after_effect': 'none', 'update_model': True, 'model_evaluation_during_attack': False, 'dropout': 0, 'optimize_dropout': False, 'dropout_probability_regularizer': 0, 'use_grad_signs': False, 'dummy_init_method': 'rand', 'evaluate_trained_model': True, 'attack_method': 'DLG-LBFGS', 'base_num_attack_steps': 500, 'learning_rate': 0.005, 'dataset': 'electricity_370', 'columns': ['MT_005'], 'train_stride': 24, 'validation_stride': 1, 'observation_days': 1, 'future_days': 1, 'normalize': 'minmax', 'hidden_size': 64, '_attack_step_multiplier': 1, 'features': [0], 'input_size': 96, 'output_size': 96, 'defense_name': 'none', 'model': 'FCN_Predictor', 'num_attack_steps': 500, 'train_dataset_size': 699}\n",
      "finished attack\n"
     ]
    },
    {
     "data": {
      "text/html": [],
      "text/plain": [
       "<IPython.core.display.HTML object>"
      ]
     },
     "metadata": {},
     "output_type": "display_data"
    },
    {
     "name": "stdout",
     "output_type": "stream",
     "text": [
      "def_c {'defense_name': 'none'}\n",
      "Starting attack 45 with config: {'logger_service': 'wandb', 'experiment_name': 'baseline_with_defenses_5-3-2025a', 'seed': 28, 'number_of_batches': 5000, 'warmup_number_of_batches': 0, 'attack_number_of_batches': 1, 'batch_size': 1, 'device': 0, 'verbose': False, 'pool_size': 1, 'run_number': 45, 'gradient_loss': 'euclidean', 'dummy_optimizer': 'adam', 'total_variation_alpha_inputs': 0, 'total_variation_beta_targets': 0, 'lr_decay': 'none', 'after_effect': 'none', 'update_model': True, 'model_evaluation_during_attack': False, 'dropout': 0, 'optimize_dropout': False, 'dropout_probability_regularizer': 0, 'use_grad_signs': False, 'dummy_init_method': 'rand', 'evaluate_trained_model': True, 'attack_method': 'DLG-Adam', 'base_num_attack_steps': 5000, 'learning_rate': 0.005, 'dataset': 'electricity_370', 'columns': ['MT_005'], 'train_stride': 24, 'validation_stride': 1, 'observation_days': 1, 'future_days': 1, 'normalize': 'minmax', 'hidden_size': 64, '_attack_step_multiplier': 1, 'features': [0], 'input_size': 96, 'output_size': 96, 'defense_name': 'none', 'model': 'FCN_Predictor', 'num_attack_steps': 5000, 'train_dataset_size': 699}\n",
      "finished attack\n"
     ]
    },
    {
     "data": {
      "text/html": [],
      "text/plain": [
       "<IPython.core.display.HTML object>"
      ]
     },
     "metadata": {},
     "output_type": "display_data"
    },
    {
     "name": "stdout",
     "output_type": "stream",
     "text": [
      "def_c {'defense_name': 'none'}\n",
      "Starting attack 46 with config: {'logger_service': 'wandb', 'experiment_name': 'baseline_with_defenses_5-3-2025a', 'seed': 28, 'number_of_batches': 5000, 'warmup_number_of_batches': 0, 'attack_number_of_batches': 1, 'batch_size': 1, 'device': 0, 'verbose': False, 'pool_size': 1, 'run_number': 46, 'gradient_loss': 'cosine_invg', 'dummy_optimizer': 'adam', 'total_variation_alpha_inputs': 0, 'total_variation_beta_targets': 0, 'lr_decay': 'multi_step', 'after_effect': 'boxed', 'update_model': True, 'model_evaluation_during_attack': False, 'dropout': 0, 'optimize_dropout': False, 'dropout_probability_regularizer': 0, 'use_grad_signs': True, 'dummy_init_method': 'rand', 'evaluate_trained_model': True, 'attack_method': 'InvG', 'base_num_attack_steps': 5000, 'learning_rate': 0.005, 'dataset': 'electricity_370', 'columns': ['MT_005'], 'train_stride': 24, 'validation_stride': 1, 'observation_days': 1, 'future_days': 1, 'normalize': 'minmax', 'hidden_size': 64, '_attack_step_multiplier': 1, 'features': [0], 'input_size': 96, 'output_size': 96, 'defense_name': 'none', 'model': 'FCN_Predictor', 'num_attack_steps': 5000, 'train_dataset_size': 699}\n",
      "finished attack\n"
     ]
    },
    {
     "data": {
      "text/html": [],
      "text/plain": [
       "<IPython.core.display.HTML object>"
      ]
     },
     "metadata": {},
     "output_type": "display_data"
    },
    {
     "name": "stdout",
     "output_type": "stream",
     "text": [
      "def_c {'defense_name': 'none'}\n",
      "Starting attack 47 with config: {'logger_service': 'wandb', 'experiment_name': 'baseline_with_defenses_5-3-2025a', 'seed': 28, 'number_of_batches': 5000, 'warmup_number_of_batches': 0, 'attack_number_of_batches': 1, 'batch_size': 1, 'device': 0, 'verbose': False, 'pool_size': 1, 'run_number': 47, 'gradient_loss': 'cosine_dia', 'dummy_optimizer': 'adam', 'total_variation_alpha_inputs': 0, 'total_variation_beta_targets': 0, 'lr_decay': 'on_plateau_10', 'after_effect': 'boxed', 'update_model': True, 'model_evaluation_during_attack': False, 'dropout': 0, 'optimize_dropout': True, 'dropout_probability_regularizer': 1e-06, 'use_grad_signs': True, 'dummy_init_method': 'rand', 'evaluate_trained_model': True, 'attack_method': 'DIA', 'base_num_attack_steps': 500, 'learning_rate': 0.1, 'clamp_dropout': 1, 'clamp_dropout_min_max': [0, 1], 'dropout_mask_init_type': 'bernoulli', 'dataset': 'electricity_370', 'columns': ['MT_005'], 'train_stride': 24, 'validation_stride': 1, 'observation_days': 1, 'future_days': 1, 'normalize': 'minmax', 'hidden_size': 64, '_attack_step_multiplier': 1, 'features': [0], 'input_size': 96, 'output_size': 96, 'defense_name': 'none', 'model': 'FCN_Predictor', 'num_attack_steps': 500, 'train_dataset_size': 699}\n",
      "finished attack\n"
     ]
    },
    {
     "data": {
      "text/html": [],
      "text/plain": [
       "<IPython.core.display.HTML object>"
      ]
     },
     "metadata": {},
     "output_type": "display_data"
    }
   ],
   "source": [
    "from copy import deepcopy\n",
    "from ts_inverse.models import FCN_Predictor, CNN_Predictor, GRU_Predictor, JitGRU_Predictor, CNNJitGRU_Predictor, TCN_Predictor\n",
    "from ts_inverse.models.jit_gru import JitSeq2Seq_Predictor\n",
    "from ts_inverse.utils import grid_search_params\n",
    "from ts_inverse.workers import AttackBaselineWorker\n",
    "\n",
    "\n",
    "def start_multi_process(g_config, a_config, d_config, m_config, def_config, pool_size):\n",
    "    search_args = []\n",
    "    search_configs = list(grid_search_params(g_config))\n",
    "    search_attack_configs = list(grid_search_params(a_config))\n",
    "    search_dataset_settings = list(grid_search_params(d_config))\n",
    "    search_model_settings = list(grid_search_params(m_config))\n",
    "    search_defense_settings = list(grid_search_params(def_config))\n",
    "    for def_config in search_defense_settings:\n",
    "        for original_g_config in search_configs:\n",
    "            for a_config in search_attack_configs:\n",
    "                g_config = deepcopy(original_g_config)\n",
    "                g_config.update(a_config)\n",
    "                for m_config in search_model_settings:\n",
    "                    for d_config in search_dataset_settings:\n",
    "                        fa_models_config = {\n",
    "                            \"features\": [[0]],\n",
    "                            \"input_size\": d_config[\"observation_days\"],\n",
    "                            \"output_size\": d_config[\"future_days\"],\n",
    "                        }\n",
    "                        search_for_all_models_settings = list(grid_search_params(fa_models_config))\n",
    "                        for fa_models_config in search_for_all_models_settings:\n",
    "                            g_config[\"run_number\"] = len(search_args)\n",
    "                            args = (g_config, d_config, m_config, fa_models_config, def_config)\n",
    "                            search_args.append(deepcopy(args))\n",
    "\n",
    "    print(f\"Starting {len(search_args)} processes\")\n",
    "    if pool_size == 1:\n",
    "        for args in search_args:\n",
    "            AttackBaselineWorker(args[0][\"run_number\"]).worker_process(*args)\n",
    "\n",
    "\n",
    "global_config = {\n",
    "    \"logger_service\": \"wandb\",\n",
    "    \"experiment_name\": \"baseline_with_defenses_5-3-2025a\",\n",
    "    \"seed\": [10, 43, 28],\n",
    "    \"number_of_batches\": 5000,  # Training steps\n",
    "    \"warmup_number_of_batches\": 0,\n",
    "    \"attack_number_of_batches\": 1,\n",
    "    \"batch_size\": 1, # Federated learning batch size\n",
    "    \"device\": 0,\n",
    "    \"verbose\": False,\n",
    "    \"pool_size\": 1,\n",
    "    \"run_number\": -1,\n",
    "    \"gradient_loss\": \"euclidean\",\n",
    "    \"dummy_optimizer\": \"adam\",\n",
    "    \"total_variation_alpha_inputs\": 0,\n",
    "    \"total_variation_beta_targets\": 0,\n",
    "    \"lr_decay\": \"none\",\n",
    "    \"after_effect\": \"none\",\n",
    "    \"update_model\": True,  # Update the model in generating gradients from training data\n",
    "    \"model_evaluation_during_attack\": False, \n",
    "    \"dropout\": 0,  # Is set here for logic in the worker process\n",
    "    \"optimize_dropout\": False,\n",
    "    \"dropout_probability_regularizer\": 0,\n",
    "    \"use_grad_signs\": False,\n",
    "    \"dummy_init_method\": \"rand\",\n",
    "    \"evaluate_trained_model\": True,\n",
    "}\n",
    "\n",
    "defense_config = [\n",
    "    {\n",
    "        \"sign\": True,\n",
    "        \"defense_name\": \"sign\",\n",
    "    },\n",
    "    {\n",
    "        \"prune_rate\": [0.1],\n",
    "        \"defense_name\": \"prune\",\n",
    "    },\n",
    "    {\n",
    "        \"dp_epsilon\": [0.1],\n",
    "        \"defense_name\": \"gauss\",\n",
    "    },\n",
    "    {\n",
    "        \"defense_name\": \"none\",\n",
    "    },  # No defense\n",
    "]\n",
    "\n",
    "attack_config = [\n",
    "    {\n",
    "        \"attack_method\": \"DLG-LBFGS\",\n",
    "        \"base_num_attack_steps\": 500,\n",
    "        \"learning_rate\": 0.005,\n",
    "        \"dummy_optimizer\": \"lbfgs\",\n",
    "    },\n",
    "    {\n",
    "        \"attack_method\": \"DLG-Adam\",\n",
    "        \"base_num_attack_steps\": 5000,\n",
    "        \"learning_rate\": 0.005,\n",
    "    },\n",
    "    {\n",
    "        \"attack_method\": \"InvG\",\n",
    "        \"gradient_loss\": \"cosine_invg\",\n",
    "        \"after_effect\": \"boxed\",\n",
    "        \"total_variation_alpha_inputs\": [0],\n",
    "        \"total_variation_beta_targets\": [0],\n",
    "        \"base_num_attack_steps\": 5000,\n",
    "        \"learning_rate\": 0.005,\n",
    "        \"lr_decay\": \"multi_step\",\n",
    "        \"use_grad_signs\": True,\n",
    "    },\n",
    "    {\n",
    "        \"attack_method\": \"DIA\",\n",
    "        \"gradient_loss\": \"cosine_dia\",\n",
    "        \"base_num_attack_steps\": 500,\n",
    "        \"learning_rate\": 0.1,\n",
    "        \"lr_decay\": \"on_plateau_10\",\n",
    "        \"after_effect\": \"boxed\",\n",
    "        \"optimize_dropout\": True,\n",
    "        \"clamp_dropout\": 1,\n",
    "        \"clamp_dropout_min_max\": [[0, 1]],\n",
    "        \"dropout_probability_regularizer\": 0.000001,\n",
    "        \"dropout_mask_init_type\": \"bernoulli\",\n",
    "        \"use_grad_signs\": True,\n",
    "    },\n",
    "]\n",
    "\n",
    "dataset_config = [\n",
    "    {\n",
    "        \"dataset\": \"electricity_370\",\n",
    "        \"columns\": [df_electricity_370.columns.tolist()[4:5]],\n",
    "        \"train_stride\": 24,\n",
    "        \"validation_stride\": 1,\n",
    "        \"observation_days\": 1,\n",
    "        \"future_days\": 1,\n",
    "        \"normalize\": \"minmax\",\n",
    "    },\n",
    "    # {\n",
    "    #     'dataset': 'london_smartmeter',\n",
    "    #     'columns': [df_london_smartmeter.columns.tolist()[:1]],\n",
    "    #     'train_stride': 24,\n",
    "    #     'observation_days': 1,\n",
    "    #     'future_days': 1,\n",
    "    #     'normalize': 'minmax',\n",
    "    # },\n",
    "    # {\n",
    "    #     'dataset': 'kddcup',\n",
    "    #     'columns': [df_kddcup.columns.tolist()[:1]],\n",
    "    #     'train_stride': 24,\n",
    "    #     'observation_days': 5,\n",
    "    #     'future_days': 2,\n",
    "    #     'normalize': 'minmax',\n",
    "    # },\n",
    "]\n",
    "\n",
    "model_config = [\n",
    "    # {\n",
    "    #     '_model': CNN_Predictor,\n",
    "    #     'hidden_size': 64,\n",
    "    #     '_attack_step_multiplier': 1,\n",
    "    # },\n",
    "    {\n",
    "        \"_model\": FCN_Predictor,\n",
    "        \"hidden_size\": 64,\n",
    "        \"_attack_step_multiplier\": 1,\n",
    "    },\n",
    "    # {\n",
    "    #     '_model': TCN_Predictor,\n",
    "    #     'hidden_size': 64,\n",
    "    #     'num_levels': 0,\n",
    "    #     'kernel_size': 6,\n",
    "    #     'dilation_factor': 2,\n",
    "    #     'activation': 'relu',\n",
    "    #     'use_weight_norm': True,\n",
    "    #     'init_weights': True,\n",
    "    #     'dropout': [0.1], # Standard value for TCN\n",
    "    #     '_attack_step_multiplier': 20,\n",
    "    # },\n",
    "    # {\n",
    "    #     '_model': JitGRU_Predictor,\n",
    "    #     'hidden_size': 64,\n",
    "    #     '_attack_step_multiplier': 1,\n",
    "    # },\n",
    "    # {\n",
    "    #     '_model': JitSeq2Seq_Predictor,\n",
    "    #     'hidden_size': 64,\n",
    "    #     '_attack_step_multiplier': 1,\n",
    "    # }\n",
    "]\n",
    "\n",
    "start_multi_process(global_config, attack_config, dataset_config, model_config, defense_config, global_config[\"pool_size\"])"
   ]
  }
 ],
 "metadata": {
  "kernelspec": {
   "display_name": ".venv",
   "language": "python",
   "name": "python3"
  },
  "language_info": {
   "codemirror_mode": {
    "name": "ipython",
    "version": 3
   },
   "file_extension": ".py",
   "mimetype": "text/x-python",
   "name": "python",
   "nbconvert_exporter": "python",
   "pygments_lexer": "ipython3",
   "version": "3.13.2"
  }
 },
 "nbformat": 4,
 "nbformat_minor": 2
}
