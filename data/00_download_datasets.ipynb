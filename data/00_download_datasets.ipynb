{
 "cells": [
  {
   "cell_type": "code",
   "execution_count": 1,
   "metadata": {},
   "outputs": [],
   "source": [
    "import shutil\n",
    "import requests\n",
    "import zipfile\n",
    "import os\n",
    "\n",
    "\n",
    "def download_zip_dataset(download_link: str = None, local_filename: str = None, extract_path: str = None):\n",
    "    # Download the file\n",
    "    with requests.get(download_link, stream=True) as r:\n",
    "        r.raise_for_status()\n",
    "        with open(local_filename, \"wb\") as f:\n",
    "            for chunk in r.iter_content(chunk_size=8192):\n",
    "                f.write(chunk)\n",
    "\n",
    "    print(f\"Downloaded to {local_filename}\")\n",
    "\n",
    "    # Extract the zip file\n",
    "    with zipfile.ZipFile(local_filename, \"r\") as zip_ref:\n",
    "        zip_ref.extractall(extract_path)\n",
    "\n",
    "    # Clean up the zip file\n",
    "    os.remove(local_filename)\n",
    "    if os.path.exists(extra_files:=f\"{extract_path}/__MACOSX\"):\n",
    "        shutil.rmtree(extra_files)\n",
    "\n",
    "\n",
    "    print(f\"Extracted to {extract_path}\")"
   ]
  },
  {
   "cell_type": "code",
   "execution_count": 2,
   "metadata": {},
   "outputs": [
    {
     "name": "stdout",
     "output_type": "stream",
     "text": [
      "Downloaded to london_smart_meters_dataset_without_missing_values.zip\n",
      "Extracted to LondonSmartMeter\n"
     ]
    }
   ],
   "source": [
    "download_zip_dataset(\n",
    "    download_link=\"https://zenodo.org/records/4656091/files/london_smart_meters_dataset_without_missing_values.zip?download=1\",\n",
    "    local_filename=\"london_smart_meters_dataset_without_missing_values.zip\",\n",
    "    extract_path=\"LondonSmartMeter\",\n",
    ")"
   ]
  },
  {
   "cell_type": "code",
   "execution_count": 3,
   "metadata": {},
   "outputs": [
    {
     "name": "stdout",
     "output_type": "stream",
     "text": [
      "Downloaded to kdd_cup_2018_dataset_without_missing_values.zip\n",
      "Extracted to KDDCup_2018\n"
     ]
    }
   ],
   "source": [
    "download_zip_dataset(\n",
    "    download_link=\"https://zenodo.org/records/4656756/files/kdd_cup_2018_dataset_without_missing_values.zip?download=1\",\n",
    "    local_filename=\"kdd_cup_2018_dataset_without_missing_values.zip\",\n",
    "    extract_path=\"KDDCup_2018\",\n",
    ")"
   ]
  },
  {
   "cell_type": "code",
   "execution_count": 4,
   "metadata": {},
   "outputs": [
    {
     "name": "stdout",
     "output_type": "stream",
     "text": [
      "Downloaded to electricityloaddiagrams20112014.zip\n",
      "Extracted to Electricity370\n"
     ]
    }
   ],
   "source": [
    "download_zip_dataset(\n",
    "    download_link = \"https://archive.ics.uci.edu/static/public/321/electricityloaddiagrams20112014.zip\",\n",
    "    local_filename = \"electricityloaddiagrams20112014.zip\",\n",
    "    extract_path=\"Electricity370\",\n",
    ")"
   ]
  },
  {
   "cell_type": "code",
   "execution_count": 5,
   "metadata": {},
   "outputs": [
    {
     "name": "stdout",
     "output_type": "stream",
     "text": [
      "Downloaded to electricity_hourly_dataset.zip\n",
      "Extracted to Electricity321Hourly\n"
     ]
    }
   ],
   "source": [
    "download_zip_dataset(\n",
    "    download_link = \"https://zenodo.org/records/4656140/files/electricity_hourly_dataset.zip?download=1\",\n",
    "    local_filename = \"electricity_hourly_dataset.zip\",\n",
    "    extract_path=\"Electricity321Hourly\",\n",
    ")"
   ]
  }
 ],
 "metadata": {
  "kernelspec": {
   "display_name": ".venv",
   "language": "python",
   "name": "python3"
  },
  "language_info": {
   "codemirror_mode": {
    "name": "ipython",
    "version": 3
   },
   "file_extension": ".py",
   "mimetype": "text/x-python",
   "name": "python",
   "nbconvert_exporter": "python",
   "pygments_lexer": "ipython3",
   "version": "3.13.2"
  }
 },
 "nbformat": 4,
 "nbformat_minor": 2
}
